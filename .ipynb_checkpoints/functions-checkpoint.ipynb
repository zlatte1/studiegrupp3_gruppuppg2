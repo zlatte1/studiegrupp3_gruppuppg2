{
 "cells": [
  {
   "cell_type": "code",
   "execution_count": null,
   "id": "847394c5",
   "metadata": {},
   "outputs": [],
   "source": [
    "import numpy as np\n",
    "import matplotlib.pyplot as plt \n",
    "\n",
    "def create_np_array(r, N, STD, size):\n",
    "    empty_list = []\n",
    "    for i in range(r):\n",
    "        rand = np.random.normal(N, STD, size) \n",
    "        x = rand.mean()\n",
    "        empty_list.append(x) \n",
    "    return np.array(empty_list) \n",
    "   \n",
    "def plot_histogram(data):\n",
    "    fig, ax = plt.subplots()\n",
    "    for i in data:\n",
    "        ax.hist(i[0], label = i[1], histtype = i[2])\n",
    "    ax.legend() \n",
    "    plt.show()\n",
    "\n",
    "x1 = create_np_array(100, 10, 5, 100)\n",
    "x2 = create_np_array(100, 10, 20, 100)\n",
    "plot_histogram([(x1, \"x1 - 100\", \"step\"), (x2, \"x2 - 100\", \"step\")])\n",
    "\n",
    "x3 = create_np_array(1000, 10, 5, 100)\n",
    "x4 = create_np_array(1000, 10, 20, 100)\n",
    "plot_histogram([(x3, \"x3 - 1,000\", \"step\"), (x4, \"x4- 1,000\", \"step\")])\n",
    "\n",
    "x5 = create_np_array(10000, 10, 5, 100)\n",
    "x6 = create_np_array(10000, 10, 20, 100)\n",
    "plot_histogram([(x5, \"x5 - 10,000\", \"step\"), (x6, \"x6- 10,000\", \"step\")])"
   ]
  }
 ],
 "metadata": {
  "kernelspec": {
   "display_name": "Python 3 (ipykernel)",
   "language": "python",
   "name": "python3"
  },
  "language_info": {
   "codemirror_mode": {
    "name": "ipython",
    "version": 3
   },
   "file_extension": ".py",
   "mimetype": "text/x-python",
   "name": "python",
   "nbconvert_exporter": "python",
   "pygments_lexer": "ipython3",
   "version": "3.9.12"
  }
 },
 "nbformat": 4,
 "nbformat_minor": 5
}
