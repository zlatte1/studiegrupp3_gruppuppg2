{
 "cells": [
  {
   "cell_type": "code",
   "execution_count": 179,
   "id": "a0aa5444",
   "metadata": {},
   "outputs": [],
   "source": [
    "import numpy as np\n",
    "import scipy.stats"
   ]
  },
  {
   "cell_type": "code",
   "execution_count": 224,
   "id": "0ad1f8ba",
   "metadata": {},
   "outputs": [
    {
     "name": "stdout",
     "output_type": "stream",
     "text": [
      "With 95.0 % confidence the real mu is between 9.442353875745432 and 10.616728336060596\n"
     ]
    }
   ],
   "source": [
    "monte_carlo = np.random.normal(10, 3, size=100)\n",
    "\n",
    "# monte_1000 = monte_carlo for i in range(10):\n",
    "\n",
    "m = monte_carlo.mean() \n",
    "s = monte_carlo.std() \n",
    "dof = len(monte_carlo)-1 \n",
    "confidence = 0.95\n",
    "\n",
    "# np.abs - för att få endast positiva värden\n",
    "#t kommer från scipy.stats\n",
    "t_crit = np.abs(scipy.stats.t.ppf((1-confidence)/2, dof))\n",
    "\n",
    "lower_ci = m-s*t_crit/np.sqrt(len(monte_carlo))\n",
    "upper_ci = m+s*t_crit/np.sqrt(len(monte_carlo))\n",
    "\n",
    "print('With', confidence*100, '% confidence the real mu is between', lower_ci, 'and', upper_ci )\n",
    "\n",
    "# i så fall hur göra 1000 st av monte carlo och sen ....?\n"
   ]
  },
  {
   "cell_type": "code",
   "execution_count": 11,
   "id": "33082863",
   "metadata": {},
   "outputs": [
    {
     "ename": "SyntaxError",
     "evalue": "invalid syntax (398721564.py, line 1)",
     "output_type": "error",
     "traceback": [
      "\u001b[1;36m  Input \u001b[1;32mIn [11]\u001b[1;36m\u001b[0m\n\u001b[1;33m    lower_ci < c_monte_mean < upper_ci:\u001b[0m\n\u001b[1;37m                                       ^\u001b[0m\n\u001b[1;31mSyntaxError\u001b[0m\u001b[1;31m:\u001b[0m invalid syntax\n"
     ]
    }
   ],
   "source": [
    "lower_ci < c_monte_mean < upper_ci:"
   ]
  },
  {
   "cell_type": "code",
   "execution_count": null,
   "id": "42f8d861",
   "metadata": {},
   "outputs": [],
   "source": []
  },
  {
   "cell_type": "code",
   "execution_count": null,
   "id": "8fbfc482",
   "metadata": {},
   "outputs": [],
   "source": []
  },
  {
   "cell_type": "markdown",
   "id": "943b682c",
   "metadata": {},
   "source": [
    "Assume you have 100 observations from N(10, 3), you calculate a confidence interval and check if it \"captures\" the real  𝜇  (we know the reality since we are doing a monte carlo simulation), how often do you \"capture\" the real mu (in %) when you repeat this 1000 times? How is this knowledge useful in reality?\n",
    "Note, the difference between this question and the one above is that here we calculate the sample mean and sample standard deviation to construct confidence intervals whereas above we used that we \"knew the reality\" ( 𝜇  and  𝜎 ), i.e. ci_lower <- 10 - 1.963 and ci_upper <- 10 + 1.963. Obviosuly, this is not the case in reality.¶"
   ]
  },
  {
   "cell_type": "code",
   "execution_count": null,
   "id": "299e1f34",
   "metadata": {},
   "outputs": [],
   "source": []
  },
  {
   "cell_type": "code",
   "execution_count": 216,
   "id": "f613de82",
   "metadata": {},
   "outputs": [],
   "source": [
    "# Favorable outcomes = antalet värden som är innanför konfidens interval vid 95 %\n",
    "rel_freq_monte = [] # lista över favourable outcomes\n",
    "dof = 100-1 # degrees of freedom\n",
    "confidence = 0.95 # konfidensgraden (mellan 0 - 1 (här 95%))\n",
    "r_mu = 10 # real mu\n",
    "\n",
    "trials = 1000 # upprepningar av stickprov (monte)\n",
    "\n",
    "t_crit = np.abs(scipy.stats.t.ppf((1-confidence)/2, dof)) # t värdet för konfidensintervallet\n",
    "\n",
    "\n",
    "for i in range(trials):\n",
    "    monte = np.random.normal(r_mu, 3, size=100)  # monte = vårt stickprov \n",
    "    monte_mean = np.mean(monte)  # medelvärdet på stickprovet \n",
    "    monte_std = np.std(monte, ddof=1)  # standardavvikelsen på stickprovet\n",
    "    std_error = monte_std / np.sqrt(len(monte))  # medelfel för stickprovet\n",
    "    lower_ci = monte_mean - (t_crit * std_error)  # undre konfidensvärde\n",
    "    upper_ci = monte_mean + (t_crit * std_error)  # övre konfidensvärde\n",
    "    \n",
    "    # antalet värden i stickprovet(monte) som ligger innanför konfidensintervallet\n",
    "    cap_monte = np.logical_or(monte <= lower_ci, monte >= upper_ci).sum() \n",
    "    # lista med cap_monte värdet för varje stickprov gånger trials (här 1000)\n",
    "    \n",
    "    rel_freq_monte.append(cap_monte) \n",
    "    \n",
    "rel_freq_monte = np.array(rel_freq_monte)\n",
    "\n",
    "\n",
    "# print(t_crit)\n",
    "\n",
    "# print(monte)\n",
    "# # # print(\"monte_mean =\", monte_mean)\n",
    "# # # print(\"monte_std =\", monte_std)\n",
    "# # print(\"std_error =\", std_error)\n",
    "# print(\"lower_ci =\", lower_ci)\n",
    "# print(\"upper_ci= \", upper_ci)\n",
    "# print(\"cap_monte =\", cap_monte)\n",
    "# print(\"rel_freq_monte\",  rel_freq_monte)"
   ]
  },
  {
   "cell_type": "code",
   "execution_count": null,
   "id": "4a592a60",
   "metadata": {},
   "outputs": [],
   "source": []
  },
  {
   "cell_type": "code",
   "execution_count": 223,
   "id": "0761d780",
   "metadata": {},
   "outputs": [
    {
     "name": "stdout",
     "output_type": "stream",
     "text": [
      "84.186\n",
      "3.426243298883362\n",
      "0.10834732642360467\n",
      "83.97101539825965 84.40098460174036\n",
      "893\n",
      "89.3\n"
     ]
    }
   ],
   "source": [
    "\n",
    "n_trials_mean = np.mean(rel_freq_monte) # medelvärde av rel_freq_monte\n",
    "print(n_trials_mean)\n",
    "\n",
    "n_trials_std = np.std(rel_freq_monte, ddof=1) # std av rel_freq_monte\n",
    "print(n_trials_std)\n",
    "\n",
    "n_std_error = n_trials_std / np.sqrt(len(rel_freq_monte)) # medelfel för rel_freq_monte\n",
    "print(n_std_error)\n",
    "\n",
    "n_trials_low = n_trials_mean - (t_crit * n_std_error) # undre konfidensvärde för rel_freq_monte\n",
    "n_trials_up = n_trials_mean + (t_crit * n_std_error) # övre konfidensvärde för rel_freq_monte\n",
    "print(n_trials_low, n_trials_up)\n",
    "\n",
    "# antal värden i rel_freq_monte innanför konfidensintervall\n",
    "n_trials_cap = np.logical_or(rel_freq_monte <= n_trials_low, rel_freq_monte >= n_trials_up).sum()\n",
    "\n",
    "procent = n_trials_cap / len(rel_freq_monte) * 100\n",
    "\n",
    "print(n_trials_cap)\n",
    "\n",
    "print(procent)\n",
    "\n",
    "# print(type(rel_freq_monte))\n"
   ]
  },
  {
   "cell_type": "code",
   "execution_count": null,
   "id": "dd519c3e",
   "metadata": {},
   "outputs": [],
   "source": []
  },
  {
   "cell_type": "code",
   "execution_count": null,
   "id": "35a8e34b",
   "metadata": {},
   "outputs": [],
   "source": []
  },
  {
   "cell_type": "code",
   "execution_count": 115,
   "id": "f983de01",
   "metadata": {},
   "outputs": [
    {
     "name": "stdout",
     "output_type": "stream",
     "text": [
      "[24, 16, 18, 13, 15, 20, 14, 17, 16, 15, 18, 16, 17, 15, 17, 14, 21, 14, 19, 14, 20, 18, 15, 13, 24, 22, 18, 20, 20, 14, 13, 25, 16, 20, 16, 15, 12, 15, 17, 16, 13, 17, 16, 15, 14, 15, 12, 11, 19, 15, 15, 15, 13, 14, 18, 12, 14, 15, 13, 14, 15, 22, 11, 21, 22, 18, 15, 14, 17, 19, 12, 15, 22, 12, 19, 28, 24, 12, 11, 13, 22, 12, 14, 13, 12, 23, 20, 12, 19, 18, 12, 16, 18, 18, 11, 18, 19, 14, 20, 19, 18, 9, 13, 21, 14, 19, 16, 19, 16, 7, 16, 14, 11, 17, 16, 15, 14, 14, 15, 22, 15, 15, 22, 13, 18, 13, 13, 16, 20, 20, 17, 11, 17, 17, 17, 21, 14, 8, 13, 13, 14, 14, 19, 20, 20, 20, 11, 18, 10, 13, 12, 12, 13, 14, 16, 13, 18, 15, 7, 23, 14, 16, 20, 16, 19, 15, 9, 16, 15, 10, 13, 12, 17, 15, 9, 20, 18, 14, 16, 16, 18, 12, 16, 21, 11, 14, 18, 13, 15, 15, 10, 12, 21, 20, 12, 25, 18, 17, 14, 13, 14, 15, 12, 18, 15, 19, 16, 12, 16, 16, 14, 10, 15, 20, 17, 18, 14, 15, 16, 14, 14, 12, 15, 19, 14, 18, 14, 15, 14, 17, 17, 12, 16, 21, 11, 21, 11, 18, 22, 22, 15, 14, 17, 16, 15, 17, 14, 20, 14, 16, 12, 14, 19, 16, 18, 13, 11, 13, 15, 14, 14, 9, 13, 22, 15, 15, 16, 17, 19, 18, 12, 14, 15, 15, 12, 17, 15, 18, 18, 16, 10, 15, 13, 8, 17, 12, 12, 23, 20, 15, 17, 12, 12, 20, 23, 23, 19, 16, 18, 24, 15, 14, 15, 19, 17, 12, 20, 17, 15, 17, 17, 15, 16, 13, 15, 17, 21, 12, 17, 19, 11, 21, 16, 9, 18, 15, 15, 14, 20, 17, 11, 17, 20, 17, 23, 22, 13, 18, 17, 17, 14, 10, 17, 23, 17, 20, 11, 19, 12, 15, 15, 16, 20, 10, 14, 16, 14, 22, 11, 14, 19, 16, 21, 18, 17, 17, 16, 19, 14, 14, 14, 15, 13, 15, 11, 15, 13, 21, 21, 17, 15, 18, 20, 13, 16, 16, 15, 9, 11, 16, 9, 17, 12, 15, 13, 19, 12, 10, 18, 18, 16, 15, 18, 21, 17, 12, 15, 14, 16, 20, 11, 21, 13, 18, 10, 11, 17, 16, 21, 13, 24, 17, 15, 24, 12, 16, 12, 13, 13, 18, 10, 14, 13, 22, 16, 24, 19, 13, 10, 21, 22, 15, 10, 16, 15, 17, 14, 17, 14, 13, 14, 13, 15, 16, 15, 14, 19, 24, 11, 14, 23, 16, 13, 10, 10, 10, 14, 19, 19, 19, 17, 13, 12, 11, 14, 17, 11, 16, 16, 19, 23, 15, 20, 24, 9, 17, 16, 17, 14, 18, 20, 14, 9, 18, 17, 19, 14, 11, 14, 15, 11, 18, 18, 18, 23, 21, 16, 19, 12, 17, 16, 12, 11, 19, 13, 17, 15, 15, 11, 14, 16, 20, 13, 16, 12, 9, 16, 13, 17, 9, 16, 17, 14, 20, 6, 12, 20, 15, 17, 20, 12, 13, 17, 18, 17, 17, 16, 15, 16, 19, 13, 19, 18, 9, 14, 10, 17, 16, 18, 21, 12, 15, 11, 19, 23, 21, 15, 16, 14, 21, 13, 21, 10, 15, 16, 19, 9, 19, 14, 17, 9, 13, 13, 19, 13, 18, 11, 15, 15, 14, 14, 16, 15, 20, 18, 17, 17, 17, 17, 12, 17, 17, 19, 12, 16, 16, 12, 19, 17, 20, 15, 15, 11, 15, 16, 16, 19, 11, 19, 18, 17, 17, 19, 15, 15, 20, 9, 24, 17, 17, 17, 22, 10, 11, 18, 26, 20, 14, 15, 20, 16, 17, 17, 25, 15, 18, 12, 14, 13, 12, 13, 17, 15, 17, 21, 9, 15, 13, 9, 13, 15, 13, 16, 14, 14, 19, 11, 19, 16, 14, 19, 17, 11, 10, 15, 15, 19, 10, 18, 15, 13, 13, 10, 20, 18, 9, 15, 19, 16, 17, 12, 14, 15, 14, 16, 17, 15, 12, 16, 20, 16, 15, 11, 14, 21, 16, 21, 12, 9, 15, 19, 15, 21, 17, 13, 13, 19, 12, 15, 16, 14, 14, 11, 18, 20, 21, 18, 12, 19, 13, 15, 14, 17, 9, 14, 14, 19, 13, 16, 18, 18, 21, 12, 21, 16, 19, 11, 11, 21, 16, 16, 13, 14, 17, 17, 13, 17, 16, 16, 18, 17, 17, 11, 12, 24, 13, 14, 19, 13, 9, 13, 18, 13, 21, 21, 18, 18, 17, 12, 17, 18, 15, 22, 17, 15, 10, 16, 19, 18, 15, 18, 17, 14, 19, 19, 10, 14, 11, 23, 17, 20, 14, 13, 19, 18, 15, 13, 18, 16, 25, 19, 7, 12, 20, 21, 15, 17, 16, 12, 16, 21, 13, 14, 14, 16, 15, 18, 13, 15, 13, 18, 15, 11, 13, 15, 12, 10, 15, 16, 11, 17, 14, 15, 14, 19, 11, 20, 11, 16, 10, 19, 17, 13, 17, 12, 13, 16, 14, 17, 17, 14, 19, 14, 12, 21, 12, 17, 21, 19, 14, 10, 16, 12, 18, 23, 16, 11, 11, 9, 12, 20, 15, 14, 14, 17, 15, 10, 16, 20, 18, 17, 18, 13, 15, 16, 19, 17, 22, 24, 22, 10, 19, 14, 13, 13, 15, 13, 17, 21, 17, 16, 12, 14, 17, 13, 15, 17, 24, 19, 12, 20, 20, 22, 17, 17, 13, 13, 12, 19, 24, 16, 15, 17, 12, 11, 17, 17, 17, 20, 17, 14, 9, 17, 19, 15, 12, 12, 11, 15, 16, 17, 13, 18, 14, 19, 17, 16, 14, 14, 17, 18, 14, 19, 16, 19, 20, 12, 16, 12, 14, 15, 16, 18, 14, 12, 19, 19, 14, 19, 13, 13, 15, 20, 12, 19, 21, 13, 13, 11, 12, 17, 14, 16, 13, 17, 17, 17, 13, 14, 18]\n"
     ]
    }
   ],
   "source": [
    "# Favorable outcomes = antalet värden som är innanför konfidens interval vid 95 %\n",
    "rel_freq_monte = [] # lista över favourable outcomes\n",
    "dof = 100-1 # degrees of freedom\n",
    "confidence = 0.95 # konfidensgraden (mellan 0 - 1 (här 95%))\n",
    "r_mu = 10 # real my\n",
    "\n",
    "trials = 1000 # upprepningar av stickprov (monte)\n",
    "\n",
    "t_crit = np.abs(scipy.stats.t.ppf((1-confidence)/2, dof)) # t värdet för konfidensintervallet\n",
    "\n",
    "\n",
    "for i in range(trials):\n",
    "    monte = np.random.normal(r_mu, 3, size=100) # monte = vårt stickprov \n",
    "    monte_mean = np.mean(monte) # medelvärdet på stickprovet \n",
    "    monte_std = np.std(monte, ddof=1) # standardavvikelsen på stickprovet\n",
    "    std_error = monte_std / np.sqrt(len(monte)) # medelfel för stickprovet\n",
    "    lower_ci = monte_mean - t_crit * std_error # undre konfidensvärde\n",
    "    upper_ci = monte_mean + t_crit * std_error # övre konfidensvärde\n",
    "    \n",
    "    # antalet värden i stickprovet(monte) som ligger innanför konfidensintervallet\n",
    "    cap_monte = len(monte) - np.logical_or(monte <= lower_ci, monte >= upper_ci).sum() \n",
    "    # lista med cap_monte värdet för varje stickprov gånger trials (här 1000)\n",
    "    rel_freq_monte.append(cap_monte) \n",
    "    \n",
    "print(rel_freq_monte)"
   ]
  },
  {
   "cell_type": "code",
   "execution_count": null,
   "id": "1bb6c7d1",
   "metadata": {},
   "outputs": [],
   "source": []
  },
  {
   "cell_type": "code",
   "execution_count": null,
   "id": "31876ded",
   "metadata": {},
   "outputs": [],
   "source": []
  },
  {
   "cell_type": "markdown",
   "id": "56fff06b",
   "metadata": {},
   "source": [
    "For this question see (p. 177 - 178) in the book. We ask 1000 people who they will vote for, 4.2% answer Centerpartiet (C) and 4.5% answer Liberalerna (L), is there a statistical significant difference between the two parties?\n",
    "\n",
    "Check if the assumption on np(1-p) > 5 is satisfied for both poportions."
   ]
  },
  {
   "cell_type": "code",
   "execution_count": 159,
   "id": "a58c63dc",
   "metadata": {},
   "outputs": [
    {
     "name": "stdout",
     "output_type": "stream",
     "text": [
      "True\n",
      "False\n"
     ]
    }
   ],
   "source": [
    "import numpy as np\n",
    "def calc_significant_diff(p1, n1, p2, n2, Z):\n",
    "    \"\"\"p1 = number of favourable_outcome sample1 | p2 = number of favourable_outcome sample2 \\nnumber of favourable_outcome sample2 | n2 = number of samplesize sample2 \\nreturn is a boolean \\nZ = from z-table, 95% CL = 1.96, 90% = 1.6449 \\nsource | https://help.surveymonkey.com/en/analyze/significant-differences/ \"\"\"\n",
    "    a1 = p1/n1*n1\n",
    "    b1 = p2/n2*n2\n",
    "    p = (p1+p2) / (n1+n2)\n",
    "    SE = np.sqrt((p*(1-p)) * ((1/n1) +(1/n2)))\n",
    "    t = (p2/n2-p1/n1) / SE\n",
    "    if(t > Z):\n",
    "        return True\n",
    "    else:\n",
    "        return False\n",
    "\n",
    "# print(calc_significant_diff.__doc__)\n",
    "print(calc_significant_diff(650, 1000, 750, 1000, 1.6449))\n",
    "print(calc_significant_diff(42, 1000, 45, 1000, 1.6449))\n",
    "\n"
   ]
  },
  {
   "cell_type": "code",
   "execution_count": 167,
   "id": "c8a51e16",
   "metadata": {},
   "outputs": [
    {
     "name": "stdout",
     "output_type": "stream",
     "text": [
      "40.236\n",
      "42.975\n"
     ]
    }
   ],
   "source": [
    "# 4,2\n",
    "centerpartiet = 1000 * 0.042 * (1-0.042)\n",
    "liberalerna = 1000 * 0.045 * (1-0.045)\n",
    "\n",
    "print(centerpartiet)\n",
    "print(liberalerna)"
   ]
  },
  {
   "cell_type": "code",
   "execution_count": null,
   "id": "268f991f",
   "metadata": {},
   "outputs": [],
   "source": []
  },
  {
   "cell_type": "code",
   "execution_count": 175,
   "id": "00e6014b",
   "metadata": {},
   "outputs": [
    {
     "name": "stdout",
     "output_type": "stream",
     "text": [
      "40.236\n",
      "42.975\n"
     ]
    }
   ],
   "source": [
    "centerpartiet = 1000 * 0.042 * (1-0.042)\n",
    "liberalerna = 1000 * 0.045 * (1-0.045)\n",
    "\n",
    "print(centerpartiet)\n",
    "print(liberalerna)"
   ]
  },
  {
   "cell_type": "code",
   "execution_count": null,
   "id": "290ef86f",
   "metadata": {},
   "outputs": [],
   "source": []
  },
  {
   "cell_type": "code",
   "execution_count": null,
   "id": "ff790569",
   "metadata": {},
   "outputs": [],
   "source": []
  }
 ],
 "metadata": {
  "kernelspec": {
   "display_name": "Python 3 (ipykernel)",
   "language": "python",
   "name": "python3"
  },
  "language_info": {
   "codemirror_mode": {
    "name": "ipython",
    "version": 3
   },
   "file_extension": ".py",
   "mimetype": "text/x-python",
   "name": "python",
   "nbconvert_exporter": "python",
   "pygments_lexer": "ipython3",
   "version": "3.9.12"
  }
 },
 "nbformat": 4,
 "nbformat_minor": 5
}
