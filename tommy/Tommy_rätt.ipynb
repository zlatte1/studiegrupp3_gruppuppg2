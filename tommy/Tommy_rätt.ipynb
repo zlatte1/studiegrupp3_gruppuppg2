{
 "cells": [
  {
   "cell_type": "code",
   "execution_count": 3,
   "id": "de1e9b42",
   "metadata": {},
   "outputs": [],
   "source": [
    "import numpy as np\n",
    "import matplotlib.pyplot as plt\n",
    "import scipy.stats\n",
    "\n",
    "import scipy.special \n",
    "import scipy.stats"
   ]
  },
  {
   "cell_type": "code",
   "execution_count": 25,
   "id": "e6ce36f0",
   "metadata": {},
   "outputs": [
    {
     "name": "stdout",
     "output_type": "stream",
     "text": [
      "952\n",
      "I 95.19999999999999 % av fallen. Fångas riktiga µ av konfidensintervallen \n"
     ]
    }
   ],
   "source": [
    "rel_freq_monte = []\n",
    "dof = 100-1\n",
    "confidence = 0.95\n",
    "r_mu = 10\n",
    "\n",
    "count = 0\n",
    "# för att räkna antalet gånger som r_mu är innanför confidensintervallet ( av 1000 )\n",
    "\n",
    "trials = 1000\n",
    "\n",
    "t_crit = np.abs(scipy.stats.t.ppf((1-confidence)/2, dof)) \n",
    "\n",
    "for i in range(trials):\n",
    "    monte = np.random.normal(r_mu, 3, size=100) # monte = vårt stickprov \n",
    "    monte_mean = np.mean(monte) # medelvärdet på stickprovet \n",
    "    monte_std = np.std(monte, ddof=1) # standardavvikelsen på stickprovet\n",
    "    std_error = monte_std / np.sqrt(len(monte)) # medelfel för stickprovet\n",
    "    lower_ci = monte_mean - t_crit * std_error # undre konfidensvärde\n",
    "    upper_ci = monte_mean + t_crit * std_error # övre konfidensvärde\n",
    "    \n",
    "# här ska vi kolla om r_mu är inom K-intervallen.\n",
    "# är det sant så räknar vi en gång. ()\n",
    "\n",
    "    if lower_ci < r_mu < upper_ci:\n",
    "        count +=1\n",
    "    \n",
    "print(count)\n",
    "\n",
    "\n",
    "\n",
    "print(\"I\", count/trials*100, \"% av fallen. Fångas riktiga µ av konfidensintervallen \")"
   ]
  },
  {
   "cell_type": "code",
   "execution_count": null,
   "id": "8836f426",
   "metadata": {},
   "outputs": [],
   "source": []
  },
  {
   "cell_type": "code",
   "execution_count": null,
   "id": "d5faf7c2",
   "metadata": {},
   "outputs": [],
   "source": []
  },
  {
   "cell_type": "code",
   "execution_count": null,
   "id": "5e04c5d8",
   "metadata": {},
   "outputs": [],
   "source": []
  },
  {
   "cell_type": "markdown",
   "id": "17c6b9e4",
   "metadata": {},
   "source": [
    "gammalt kanske användas"
   ]
  },
  {
   "cell_type": "code",
   "execution_count": null,
   "id": "bde09891",
   "metadata": {},
   "outputs": [],
   "source": [
    "   # antalet värden i stickprovet(monte) som ligger innanför konfidensintervallet\n",
    "    cap_monte = len(monte) - np.logical_or(monte <= lower_ci, monte >= upper_ci).sum() \n",
    "    # lista med cap_monte värdet för varje stickprov gånger trials (här 1000)\n",
    "    rel_freq_monte.append(cap_monte) "
   ]
  }
 ],
 "metadata": {
  "kernelspec": {
   "display_name": "Python 3 (ipykernel)",
   "language": "python",
   "name": "python3"
  },
  "language_info": {
   "codemirror_mode": {
    "name": "ipython",
    "version": 3
   },
   "file_extension": ".py",
   "mimetype": "text/x-python",
   "name": "python",
   "nbconvert_exporter": "python",
   "pygments_lexer": "ipython3",
   "version": "3.9.12"
  }
 },
 "nbformat": 4,
 "nbformat_minor": 5
}
