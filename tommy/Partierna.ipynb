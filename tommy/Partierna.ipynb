{
 "cells": [
  {
   "cell_type": "code",
   "execution_count": 3,
   "id": "e8f27195",
   "metadata": {},
   "outputs": [
    {
     "name": "stdout",
     "output_type": "stream",
     "text": [
      "5.0295\n",
      "42.975\n"
     ]
    }
   ],
   "source": [
    "centerpartiet = 125 * 0.042 * (1-0.042)\n",
    "liberalerna = 1000 * 0.045 * (1-0.045)\n",
    "\n",
    " \n",
    "\n",
    "print(centerpartiet)\n",
    "print(liberalerna)"
   ]
  }
 ],
 "metadata": {
  "kernelspec": {
   "display_name": "Python 3 (ipykernel)",
   "language": "python",
   "name": "python3"
  },
  "language_info": {
   "codemirror_mode": {
    "name": "ipython",
    "version": 3
   },
   "file_extension": ".py",
   "mimetype": "text/x-python",
   "name": "python",
   "nbconvert_exporter": "python",
   "pygments_lexer": "ipython3",
   "version": "3.9.12"
  }
 },
 "nbformat": 4,
 "nbformat_minor": 5
}
