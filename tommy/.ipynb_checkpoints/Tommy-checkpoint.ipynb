{
 "cells": [
  {
   "cell_type": "markdown",
   "id": "bf361c36",
   "metadata": {},
   "source": [
    "# Gruppuppgift Del 2\n"
   ]
  },
  {
   "cell_type": "markdown",
   "id": "92b53cd1",
   "metadata": {},
   "source": [
    "**Name:**\n",
    "\n",
    "**Name of the person who graded you during \"kamratbedömning\":**"
   ]
  },
  {
   "cell_type": "code",
   "execution_count": 1,
   "id": "f4370605",
   "metadata": {},
   "outputs": [],
   "source": [
    "import numpy as np\n",
    "import matplotlib.pyplot as plt\n",
    "import scipy.stats\n",
    "\n",
    "import scipy.special \n",
    "import scipy.stats\n",
    "\n",
    "\n"
   ]
  },
  {
   "cell_type": "markdown",
   "id": "859c5049",
   "metadata": {},
   "source": [
    "# Chapter 6 in the Book // Hannes kikar på."
   ]
  },
  {
   "cell_type": "markdown",
   "id": "1ce77511",
   "metadata": {},
   "source": [
    "## Create two empty vectors, x1 and x2. Now do a for loop 100 times, where you for each iteration: \n",
    "## 1) Take the mean of 100 samples from $N(10, 5)$ and store it in x1. \n",
    "## 2) Take the mean of 100 samples from $N(10, 20)$ and store it in x2.\n",
    "\n",
    "## So, your vectors x1 and x2 should contain 100 values. \n",
    "\n",
    "## From p.148 in the book, we know that the mean is an unbiased estimate of the fixed, but unknown $\\mu$. The nice thing is that in our Monte Carlo Simulation we know the true $\\mu$. Plot histograms of x1 and x2 and comment on the result, do we on \"average\" get the right mean? Is it easier or harder to estimate the mean when the variance is low/high? How is this knowledge useful in reality?"
   ]
  },
  {
   "cell_type": "code",
   "execution_count": null,
   "id": "3137986c",
   "metadata": {},
   "outputs": [],
   "source": []
  },
  {
   "cell_type": "markdown",
   "id": "460de478",
   "metadata": {},
   "source": [
    "## Redo the same analysis as above but with 10000 generated samples and see if there is any difference (copy the code from above). Comment on the results. "
   ]
  },
  {
   "cell_type": "code",
   "execution_count": null,
   "id": "23bde413",
   "metadata": {},
   "outputs": [],
   "source": []
  },
  {
   "cell_type": "markdown",
   "id": "ad2b8e50",
   "metadata": {},
   "source": [
    "# Chapter 7 - Confidence Intervals"
   ]
  },
  {
   "cell_type": "markdown",
   "id": "63efa844",
   "metadata": {},
   "source": [
    "Assuming $X$ is $N(10, 3)$, we know (see example calculation below) that a random sample x will with probability 95% be between: <br>\n",
    "ci_lower = 10 - 1.96 x 3 <br> and <br>\n",
    "ci_upper = 10 + 1.96 x 3\n",
    "\n",
    "Example, for the ci_upper, we do the following calculation: $P(X > ci\\_upper) = P(X > 10 + 1.96 * 3) = P(Z > 1.96) = 0.025$ where we used the usual standardization. \n",
    "\n",
    "This means that if you get observations from the normal distribution above, you would \"expect\" 95 \\% of them to be between ci_lower and ci_upper. \n",
    "\n",
    "Your task is now to simulate 10, 100, 1000 and 10000 normally distributed samples from $N(10, 3)$ and check the relative frequency (\\%) of how many samples fall outside the confidence interval. How many \\% should it theoretically be?"
   ]
  },
  {
   "cell_type": "code",
   "execution_count": 2,
   "id": "641568b6",
   "metadata": {},
   "outputs": [
    {
     "name": "stdout",
     "output_type": "stream",
     "text": [
      "4.12\n",
      "15.879999999999999\n"
     ]
    }
   ],
   "source": [
    "ci_lower = 10 - 1.96*3\n",
    "ci_upper = 10 + 1.96*3\n",
    "\n",
    "print(ci_lower)\n",
    "print(ci_upper)"
   ]
  },
  {
   "cell_type": "code",
   "execution_count": 12,
   "id": "5d20ac99",
   "metadata": {},
   "outputs": [
    {
     "name": "stdout",
     "output_type": "stream",
     "text": [
      "[ 6.19936336 11.15384103  8.29477117  8.89900395 11.26984469  7.86585331\n",
      " 10.30663295 14.69551937  9.49923323  9.68847539]\n"
     ]
    }
   ],
   "source": [
    "\"\"\"part 1\"\"\"\n",
    "list_10 = np.random.normal(10, 3, size=10)\n",
    "list_100 = np.random.normal(10, 3, size=100)\n",
    "list_1000 = np.random.normal(10, 3, size=1000)\n",
    "list_10000 = np.random.normal(10, 3, size=10000)\n",
    "\n",
    "print(list_10)\n"
   ]
  },
  {
   "cell_type": "code",
   "execution_count": 79,
   "id": "c26175b8",
   "metadata": {},
   "outputs": [
    {
     "name": "stdout",
     "output_type": "stream",
     "text": [
      "som binomial:  [False  True  True  True  True  True False False  True  True]\n",
      "\n",
      "antal false = dvs utanför 95% = 3\n",
      "\n",
      "<class 'numpy.ndarray'>\n",
      "10\n",
      "\n",
      "test 30.0 %\n"
     ]
    }
   ],
   "source": [
    "\"\"\"testing\"\"\"\n",
    "\n",
    "test_list = np.array([1, 12, 12, 12, 12, 12, 16, 1, 15, 15])\n",
    "\n",
    "#skapar true/false = binomial\n",
    "rel_test_list = np.array((ci_lower < test_list) & (test_list < ci_upper))\n",
    "\n",
    "#samma som ovan + summering av de värden som ligger i utfallet\n",
    "rel_test = np.array(((ci_lower > test_list) + (test_list > ci_upper)).sum())\n",
    "\n",
    "print('som binomial: ', rel_test_list)\n",
    "print()\n",
    "print('antal false = dvs utanför 95% =', rel_test)\n",
    "print()\n",
    "print(type(rel_test)) # var tvungen att vara en array för att ovan skulle fungera.\n",
    "print(len(test_list)) # för att kolla så att \n",
    "\n",
    "print()\n",
    "print('test', (rel_test/len(test_list))*100, '%')\n",
    "\n"
   ]
  },
  {
   "cell_type": "code",
   "execution_count": 13,
   "id": "e5519ac4",
   "metadata": {},
   "outputs": [
    {
     "name": "stdout",
     "output_type": "stream",
     "text": [
      "0.0 %\n",
      "1.0 %\n",
      "4.1000000000000005 %\n",
      "5.09 %\n"
     ]
    }
   ],
   "source": [
    "\"\"\"part 2\"\"\"\n",
    "rel_10 = ((ci_lower > list_10) + (list_10 > ci_upper)).sum()\n",
    "rel_100 = ((ci_lower > list_100) + (list_100 > ci_upper)).sum()\n",
    "rel_1000 = ((ci_lower > list_1000) + (list_1000 > ci_upper)).sum()\n",
    "rel_10000 = ((ci_lower > list_10000) + (list_10000 > ci_upper)).sum()\n",
    "\n",
    "print((rel_10/len(list_10))*100, '%')\n",
    "print((rel_100/len(list_100))*100, '%')\n",
    "print((rel_1000/len(list_1000))*100, '%')\n",
    "print((rel_10000/len(list_10000))*100, '%')\n"
   ]
  },
  {
   "cell_type": "markdown",
   "id": "e88f5b4b",
   "metadata": {},
   "source": [
    "### Theoretical should be 5 %"
   ]
  },
  {
   "cell_type": "markdown",
   "id": "4894a103",
   "metadata": {},
   "source": [
    "google sökningar med resultat som hjälpt till resultatet\n",
    "\n",
    "https://stackoverflow.com/questions/9560207/how-to-count-values-in-a-certain-range-in-a-numpy-array\n",
    "\n",
    "https://www.askpython.com/python/array/array-length-in-python\n",
    "\n",
    "https://www.datacamp.com/tutorial/python-arrays"
   ]
  },
  {
   "cell_type": "markdown",
   "id": "ddf91ab1",
   "metadata": {},
   "source": [
    "## Assume you have 100 observations from N(10, 3), you calculate a confidence interval and check if it \"captures\" the real $\\mu$ (we know the reality since we are doing a monte carlo simulation), how often do you \"capture\" the real mu (in \\%) when you repeat this 1000 times? How is this knowledge useful in reality?\n",
    "\n",
    "## Note, the difference between this question and the one above is that here we calculate the sample mean and sample standard deviation to construct confidence intervals whereas above we used that we \"knew the reality\" ($\\mu$ and $\\sigma$), i.e. ci_lower <- 10 - 1.96*3 and  ci_upper <- 10 + 1.96*3. Obviosuly, this is not the case in reality.\n"
   ]
  },
  {
   "cell_type": "markdown",
   "id": "b1d52956",
   "metadata": {},
   "source": [
    "DEl 2 har bara tagit fram population, ex och standard diviation"
   ]
  },
  {
   "cell_type": "code",
   "execution_count": 52,
   "id": "e1e6f9c9",
   "metadata": {},
   "outputs": [
    {
     "name": "stdout",
     "output_type": "stream",
     "text": [
      "With 95.0 % confidence the real mu is between 9.126296765626837 and 10.365411740966106\n",
      "[ 6.30056031 10.95998836  9.36290054  8.19392627 13.81708802 10.80143887\n",
      "  6.00228721  9.58890749 10.83777874  6.33632359 13.9795516   6.75195672\n",
      " 13.06622878 14.79859527  9.28079554 12.07894236  7.13952261 13.50036906\n",
      " 11.03626838  9.99563606  6.76646825 13.2374231  13.26283384  8.64023176\n",
      "  6.68759458 11.13934747  5.28981614 12.09000451 13.57836371  7.29737107\n",
      " 12.92631691  7.21437388 11.23707672 11.62192034 11.06314308 10.39454809\n",
      "  9.46740181  3.12533376  8.86485237  7.77608908 13.41888313  9.31366704\n",
      " 11.90400696  4.49997135 12.58687017 11.42742989 12.75144599 10.65735956\n",
      " 11.02928899 11.35038574  9.34175191 15.44600591  7.94563198  3.71895364\n",
      " 10.78137713 11.26404829 15.1426473   3.58290448  8.43137385  8.00833863\n",
      " 17.39625825 11.00752861 10.49439661 10.42574558  4.53438998 13.14684269\n",
      "  9.77634712  7.22959228 12.33378996 10.01033317  8.49078711  6.6765042\n",
      "  8.70200978  7.6005072   3.19154804  7.55406692 11.55627665  9.85916463\n",
      " 10.46589842  8.84902609  5.28015957 15.50459232 12.93277553  7.92474646\n",
      "  6.39169641  7.364338    6.14078573 11.18760936 11.78106714  5.54402852\n",
      "  6.98889681  8.24820934 11.36526653  8.77272202 15.32468029 11.08075931\n",
      "  0.93348873 11.21110963 13.03575531 10.15980688]\n"
     ]
    }
   ],
   "source": [
    "monte_carlo = np.random.normal(10, 3, size=100)\n",
    "\n",
    "m = monte_carlo.mean() \n",
    "s = monte_carlo.std() \n",
    "dof = len(monte_carlo)-1 \n",
    "confidence = 0.95\n",
    "\n",
    "# np.abs - för att få endast positiva värden\n",
    "#t kommer från scipy.stats\n",
    "t_crit = np.abs(scipy.stats.t.ppf((1-confidence)/2, dof))\n",
    "\n",
    "lower_ci = m-s*t_crit/np.sqrt(len(monte_carlo))\n",
    "upper_ci = m+s*t_crit/np.sqrt(len(monte_carlo))\n",
    "\n",
    "print('With', confidence*100, '% confidence the real mu is between', lower_ci, 'and', upper_ci )\n",
    "\n",
    "print(monte_carlo)"
   ]
  },
  {
   "cell_type": "code",
   "execution_count": 86,
   "id": "6b8a43b3",
   "metadata": {},
   "outputs": [
    {
     "ename": "NameError",
     "evalue": "name 'monte_carlo' is not defined",
     "output_type": "error",
     "traceback": [
      "\u001b[1;31m---------------------------------------------------------------------------\u001b[0m",
      "\u001b[1;31mNameError\u001b[0m                                 Traceback (most recent call last)",
      "Input \u001b[1;32mIn [86]\u001b[0m, in \u001b[0;36m<cell line: 1>\u001b[1;34m()\u001b[0m\n\u001b[1;32m----> 1\u001b[0m values \u001b[38;5;241m=\u001b[39m [np\u001b[38;5;241m.\u001b[39mrandom\u001b[38;5;241m.\u001b[39mchoice(monte_carlo,size\u001b[38;5;241m=\u001b[39m\u001b[38;5;28mlen\u001b[39m(monte_carlo),replace\u001b[38;5;241m=\u001b[39m\u001b[38;5;28;01mTrue\u001b[39;00m)\u001b[38;5;241m.\u001b[39mmean() \u001b[38;5;28;01mfor\u001b[39;00m i \u001b[38;5;129;01min\u001b[39;00m \u001b[38;5;28mrange\u001b[39m(\u001b[38;5;241m10\u001b[39m)] \n\u001b[0;32m      3\u001b[0m result \u001b[38;5;241m=\u001b[39m np\u001b[38;5;241m.\u001b[39mpercentile(values,[\u001b[38;5;241m100\u001b[39m\u001b[38;5;241m*\u001b[39m(\u001b[38;5;241m1\u001b[39m\u001b[38;5;241m-\u001b[39mconfidence)\u001b[38;5;241m/\u001b[39m\u001b[38;5;241m2\u001b[39m,\u001b[38;5;241m100\u001b[39m\u001b[38;5;241m*\u001b[39m(\u001b[38;5;241m1\u001b[39m\u001b[38;5;241m-\u001b[39m(\u001b[38;5;241m1\u001b[39m\u001b[38;5;241m-\u001b[39mconfidence)\u001b[38;5;241m/\u001b[39m\u001b[38;5;241m2\u001b[39m)]) \n\u001b[0;32m      5\u001b[0m \u001b[38;5;28mprint\u001b[39m(\u001b[38;5;124m'\u001b[39m\u001b[38;5;124mWith \u001b[39m\u001b[38;5;124m'\u001b[39m, confidence\u001b[38;5;241m*\u001b[39m\u001b[38;5;241m100\u001b[39m, \u001b[38;5;124m'\u001b[39m\u001b[38;5;132;01m% c\u001b[39;00m\u001b[38;5;124monfidence the real mu is between\u001b[39m\u001b[38;5;124m'\u001b[39m, result[\u001b[38;5;241m0\u001b[39m], \u001b[38;5;124m'\u001b[39m\u001b[38;5;124mand\u001b[39m\u001b[38;5;124m'\u001b[39m, result[\u001b[38;5;241m1\u001b[39m] )\n",
      "Input \u001b[1;32mIn [86]\u001b[0m, in \u001b[0;36m<listcomp>\u001b[1;34m(.0)\u001b[0m\n\u001b[1;32m----> 1\u001b[0m values \u001b[38;5;241m=\u001b[39m [np\u001b[38;5;241m.\u001b[39mrandom\u001b[38;5;241m.\u001b[39mchoice(\u001b[43mmonte_carlo\u001b[49m,size\u001b[38;5;241m=\u001b[39m\u001b[38;5;28mlen\u001b[39m(monte_carlo),replace\u001b[38;5;241m=\u001b[39m\u001b[38;5;28;01mTrue\u001b[39;00m)\u001b[38;5;241m.\u001b[39mmean() \u001b[38;5;28;01mfor\u001b[39;00m i \u001b[38;5;129;01min\u001b[39;00m \u001b[38;5;28mrange\u001b[39m(\u001b[38;5;241m10\u001b[39m)] \n\u001b[0;32m      3\u001b[0m result \u001b[38;5;241m=\u001b[39m np\u001b[38;5;241m.\u001b[39mpercentile(values,[\u001b[38;5;241m100\u001b[39m\u001b[38;5;241m*\u001b[39m(\u001b[38;5;241m1\u001b[39m\u001b[38;5;241m-\u001b[39mconfidence)\u001b[38;5;241m/\u001b[39m\u001b[38;5;241m2\u001b[39m,\u001b[38;5;241m100\u001b[39m\u001b[38;5;241m*\u001b[39m(\u001b[38;5;241m1\u001b[39m\u001b[38;5;241m-\u001b[39m(\u001b[38;5;241m1\u001b[39m\u001b[38;5;241m-\u001b[39mconfidence)\u001b[38;5;241m/\u001b[39m\u001b[38;5;241m2\u001b[39m)]) \n\u001b[0;32m      5\u001b[0m \u001b[38;5;28mprint\u001b[39m(\u001b[38;5;124m'\u001b[39m\u001b[38;5;124mWith \u001b[39m\u001b[38;5;124m'\u001b[39m, confidence\u001b[38;5;241m*\u001b[39m\u001b[38;5;241m100\u001b[39m, \u001b[38;5;124m'\u001b[39m\u001b[38;5;132;01m% c\u001b[39;00m\u001b[38;5;124monfidence the real mu is between\u001b[39m\u001b[38;5;124m'\u001b[39m, result[\u001b[38;5;241m0\u001b[39m], \u001b[38;5;124m'\u001b[39m\u001b[38;5;124mand\u001b[39m\u001b[38;5;124m'\u001b[39m, result[\u001b[38;5;241m1\u001b[39m] )\n",
      "\u001b[1;31mNameError\u001b[0m: name 'monte_carlo' is not defined"
     ]
    }
   ],
   "source": [
    "values = [np.random.choice(monte_carlo,size=len(monte_carlo),replace=True).mean() for i in range(10)] \n",
    "\n",
    "result = np.percentile(values,[100*(1-confidence)/2,100*(1-(1-confidence)/2)]) \n",
    "\n",
    "print('With ', confidence*100, '% confidence the real mu is between', result[0], 'and', result[1] )\n",
    "\n",
    "# Kan jag ta bort np.random.choice för att det ska bli\n",
    "# antalet i range(1000) simulationer av monte_carlo som sedan result baserar sig på?\n"
   ]
  },
  {
   "cell_type": "code",
   "execution_count": null,
   "id": "584b0f7b",
   "metadata": {},
   "outputs": [],
   "source": []
  },
  {
   "cell_type": "markdown",
   "id": "d822dc2c",
   "metadata": {},
   "source": [
    "Del II"
   ]
  },
  {
   "cell_type": "markdown",
   "id": "34897b20",
   "metadata": {},
   "source": [
    "denna känns bra"
   ]
  },
  {
   "cell_type": "code",
   "execution_count": 51,
   "id": "4a9aa415",
   "metadata": {
    "scrolled": true
   },
   "outputs": [
    {
     "name": "stdout",
     "output_type": "stream",
     "text": [
      "[88, 86, 88, 82, 81, 86, 91, 84, 76, 88, 81, 84, 79, 87, 81, 81, 84, 76, 88, 82, 81, 84, 87, 86, 84, 78, 79, 88, 82, 88, 87, 85, 81, 87, 85, 80, 90, 81, 85, 92, 84, 83, 84, 86, 85, 81, 85, 89, 88, 87, 83, 82, 85, 82, 87, 83, 87, 86, 78, 79, 92, 85, 80, 87, 88, 82, 87, 83, 82, 87, 84, 86, 85, 81, 87, 79, 87, 77, 82, 89, 85, 82, 89, 75, 80, 84, 82, 86, 89, 80, 90, 87, 88, 87, 78, 77, 87, 83, 91, 88, 81, 84, 85, 84, 78, 79, 84, 87, 76, 81, 81, 92, 85, 76, 79, 80, 88, 79, 85, 80, 87, 86, 90, 85, 89, 85, 85, 86, 86, 81, 88, 83, 83, 89, 84, 89, 80, 91, 90, 83, 76, 90, 92, 87, 80, 85, 87, 82, 87, 84, 82, 79, 92, 87, 88, 84, 89, 85, 84, 86, 89, 88, 87, 87, 78, 81, 81, 87, 82, 85, 81, 81, 88, 84, 86, 82, 85, 87, 83, 81, 82, 87, 80, 84, 80, 82, 82, 86, 87, 75, 85, 83, 82, 81, 89, 81, 85, 79, 81, 75, 89, 82, 81, 83, 86, 90, 90, 81, 82, 85, 82, 87, 84, 90, 88, 85, 92, 90, 80, 85, 82, 81, 87, 79, 88, 88, 87, 84, 83, 84, 78, 80, 88, 87, 89, 89, 86, 89, 83, 77, 83, 85, 83, 87, 82, 84, 81, 84, 87, 83, 78, 82, 86, 80, 83, 80, 81, 87, 80, 86, 82, 86, 86, 86, 89, 86, 87, 82, 81, 79, 87, 83, 83, 83, 91, 88, 81, 86, 86, 85, 87, 87, 88, 83, 84, 79, 86, 91, 84, 80, 79, 82, 86, 83, 78, 87, 79, 87, 87, 83, 84, 85, 85, 88, 83, 83, 97, 85, 85, 92, 91, 87, 82, 87, 79, 88, 86, 82, 83, 80, 83, 83, 82, 80, 81, 83, 90, 86, 85, 88, 82, 88, 89, 89, 87, 90, 84, 86, 88, 85, 82, 87, 88, 90, 84, 77, 80, 84, 86, 88, 86, 87, 85, 88, 87, 82, 80, 80, 87, 84, 83, 89, 86, 88, 85, 80, 82, 82, 85, 82, 89, 92, 77, 84, 83, 78, 82, 85, 80, 86, 86, 79, 87, 83, 88, 85, 79, 78, 84, 83, 85, 89, 82, 91, 85, 84, 87, 85, 81, 82, 91, 90, 84, 87, 84, 84, 86, 85, 84, 92, 81, 87, 83, 82, 83, 82, 87, 85, 86, 81, 87, 81, 80, 90, 81, 85, 80, 85, 85, 81, 83, 85, 87, 83, 85, 81, 85, 84, 83, 88, 88, 91, 86, 79, 89, 84, 83, 82, 89, 85, 85, 87, 84, 87, 89, 88, 82, 79, 82, 82, 82, 82, 86, 85, 81, 81, 87, 86, 81, 79, 81, 83, 90, 78, 84, 85, 85, 85, 84, 90, 75, 79, 90, 89, 80, 84, 87, 83, 83, 85, 88, 84, 89, 86, 79, 80, 81, 83, 91, 82, 84, 85, 79, 86, 84, 82, 80, 87, 83, 84, 83, 89, 82, 84, 79, 87, 86, 83, 83, 86, 80, 88, 86, 84, 78, 84, 80, 82, 81, 80, 82, 87, 80, 79, 81, 86, 83, 83, 77, 86, 84, 86, 91, 87, 77, 85, 85, 90, 86, 80, 88, 86, 78, 80, 87, 86, 89, 87, 86, 92, 88, 85, 78, 79, 82, 84, 83, 82, 84, 84, 92, 85, 85, 85, 86, 86, 83, 82, 87, 89, 80, 80, 87, 88, 88, 88, 84, 82, 87, 84, 85, 88, 91, 85, 83, 88, 85, 91, 87, 85, 89, 87, 82, 86, 85, 86, 84, 88, 83, 81, 88, 88, 88, 90, 86, 78, 82, 85, 82, 77, 91, 79, 86, 85, 84, 86, 82, 85, 78, 88, 82, 91, 78, 86, 84, 83, 86, 85, 87, 81, 85, 82, 87, 78, 85, 87, 83, 88, 88, 79, 78, 83, 83, 85, 85, 88, 82, 82, 83, 88, 85, 82, 87, 86, 90, 80, 92, 87, 91, 82, 86, 90, 86, 92, 90, 81, 83, 79, 84, 80, 84, 83, 85, 85, 81, 85, 83, 81, 81, 83, 81, 79, 88, 82, 86, 81, 85, 83, 91, 88, 84, 92, 79, 86, 83, 87, 86, 87, 81, 87, 81, 81, 80, 84, 85, 80, 87, 88, 90, 87, 89, 89, 81, 87, 84, 89, 82, 85, 80, 85, 83, 84, 77, 82, 83, 82, 87, 83, 82, 88, 84, 87, 86, 91, 84, 83, 80, 86, 85, 90, 80, 84, 91, 83, 85, 86, 83, 86, 84, 87, 87, 86, 74, 87, 86, 84, 85, 92, 86, 87, 86, 83, 81, 78, 91, 83, 86, 86, 83, 83, 82, 79, 87, 94, 89, 84, 85, 83, 86, 90, 85, 87, 87, 89, 79, 89, 81, 90, 78, 86, 84, 86, 89, 83, 83, 86, 78, 81, 79, 89, 85, 82, 89, 78, 85, 86, 81, 74, 80, 87, 85, 78, 89, 86, 84, 81, 79, 86, 81, 82, 83, 85, 83, 81, 88, 90, 82, 81, 81, 83, 85, 89, 84, 83, 79, 83, 84, 87, 85, 77, 82, 83, 79, 84, 78, 85, 78, 87, 90, 86, 85, 83, 79, 86, 89, 86, 85, 84, 91, 85, 85, 81, 90, 88, 82, 85, 88, 88, 87, 82, 84, 79, 80, 79, 87, 86, 82, 89, 81, 87, 86, 82, 90, 77, 90, 90, 80, 92, 87, 79, 83, 87, 81, 86, 83, 85, 89, 86, 83, 87, 87, 90, 83, 83, 87, 80, 83, 87, 86, 85, 86, 85, 82, 82, 81, 86, 84, 90, 89, 87, 81, 79, 86, 85, 84, 90, 79, 80, 82, 86, 85, 85, 79, 87, 82, 84, 82, 85, 90, 83, 80, 84, 89, 78, 86, 86, 79, 87, 85, 86, 79, 83, 90, 86, 84, 87, 88, 83, 85, 87, 78, 85, 90, 83, 83, 87, 78, 79, 83, 80, 88, 80, 90, 82, 88, 85, 86, 81, 86, 87, 79, 85, 87, 85, 87, 84, 81, 83, 82, 86]\n",
      "86\n",
      "1.9842169515086827\n",
      "9.08060202898319\n",
      "10.152789671165223\n"
     ]
    }
   ],
   "source": [
    "# monte_carlo = np.random.normal(10, 3, size=100)\n",
    "\n",
    "rel_freq_monte = []\n",
    "dof = 100-1 \n",
    "confidence = 0.95\n",
    "\n",
    "trials = 1000\n",
    "\n",
    "t_crit = np.abs(scipy.stats.t.ppf((1-confidence)/2, dof))\n",
    "\n",
    "for i in range(trials):\n",
    "    monte = np.random.normal(10, 3, size=100)\n",
    "    monte_mean = np.mean(monte)\n",
    "    monte_std = np.std(monte)\n",
    "    lower_ci = monte_mean-monte_std*t_crit/np.sqrt(100)\n",
    "    upper_ci = monte_mean+monte_std*t_crit/np.sqrt(100)\n",
    "    cap_monte = ((lower_ci > monte) + (monte > upper_ci)).sum()\n",
    "    rel_freq_monte.append(cap_monte)\n",
    "\n",
    "n_trails_mean = np.mean(rel_freq_monte)\n",
    "n_trails_std = np.std(rel_freq_monte)\n",
    "    \n",
    "n_trials_low = (n_trails_mean-n_trails_std*t_crit/np.sqrt(len(rel_freq_monte))) \n",
    "n_trials_up = (n_trails_mean+n_trails_std*t_crit/np.sqrt(len(rel_freq_monte)))\n",
    "n_trials_inside = ((n_trials_low > rel_freq_monte) + (rel_freq_monte > n_trials_up)).sum()  \n",
    "\n",
    "# print(n_trials_inside)\n",
    "\n",
    "# print(monte)\n",
    "# print()\n",
    "# print(monte_mean)\n",
    "# print()\n",
    "# print(monte_std)\n",
    "# print()\n",
    "print(rel_freq_monte)\n",
    "print(cap_monte)\n",
    "\n",
    "print(t_crit)\n",
    "print(lower_ci)\n",
    "print(upper_ci)\n",
    "\n",
    "\n",
    "\n"
   ]
  },
  {
   "cell_type": "markdown",
   "id": "0086c336",
   "metadata": {},
   "source": [
    "Nytt försök - \n",
    "\n",
    "Tror jag kom på varför vi fick 1000 eller 0 i counten.\n",
    "\n",
    "- Vi försökte att se om mean låg utanför lower och upper.\n",
    "- Det gör den ju aldrig då den är mean. \n",
    "\n",
    "Vi måste titta på varje värde om det är utanför. \n",
    "Sen får vi % på hur många som ligger utanför.\n",
    "DVS som i första delen av mitt område.\n",
    "Sen spara detta (antalet) i en lista\n",
    "Som vi sen ska använda för att räkna ut mean och std för.\n",
    "För att kalkylera hur många av trailsen ligger utanför den intervallen.\n",
    "DVS: hur många trails som har en relativ frekvens av fel som ligger utanför 95% av trails mean\n",
    "\n",
    "- OBS vi behöver kanske fråga Antonio om detta är rätt tolkning av uppgiften."
   ]
  },
  {
   "cell_type": "code",
   "execution_count": 30,
   "id": "b01ffc26",
   "metadata": {},
   "outputs": [
    {
     "name": "stdout",
     "output_type": "stream",
     "text": [
      "85\n",
      "\n",
      "[85, 85, 85, 85, 85, 85, 85, 85, 85, 85]\n"
     ]
    }
   ],
   "source": [
    "monte = np.array(np.random.normal(10, 3, size=100))\n",
    "mean = np.mean(monte)\n",
    "std = np.std(monte)\n",
    "\n",
    "dof = len(monte)-1 \n",
    "confidence = 0.95\n",
    "\n",
    "t_crit = np.abs(scipy.stats.t.ppf((1-confidence)/2, dof))\n",
    "\n",
    "lower = (mean-std*t_crit/np.sqrt(len(monte)))\n",
    "upper = (mean+std*t_crit/np.sqrt(len(monte)))\n",
    "\n",
    "rel_freq_monte = ((lower > monte) + (monte > upper)).sum()\n",
    "rel_mean = np.mean(monte)\n",
    "rel_std = np.std(monte)\n",
    "\n",
    "rel_freq_list = []\n",
    "\n",
    "count = 0\n",
    "\n",
    "trials = 10\n",
    "\n",
    "for i in range(trials):\n",
    "    monte = np.array(np.random.normal(10, 3, size=100))\n",
    "    mean = np.mean(monte)\n",
    "    std = np.std(monte)\n",
    "    lower = np.array(mean-std*t_crit/np.sqrt(len(monte)))\n",
    "    upper = np.array(mean+std*t_crit/np.sqrt(len(monte)))\n",
    "    rel_freq_list.append(rel_freq_monte)\n",
    "#     print()\n",
    "#     print(lower)\n",
    "#     print()\n",
    "#     print(mean)\n",
    "#     print()\n",
    "#     print(upper)\n",
    "#     print('------------------------------')\n",
    "print(rel_freq_monte)\n",
    "print()\n",
    "print(rel_freq_list)\n"
   ]
  },
  {
   "cell_type": "code",
   "execution_count": 16,
   "id": "80a68c0e",
   "metadata": {},
   "outputs": [
    {
     "name": "stdout",
     "output_type": "stream",
     "text": [
      "0\n"
     ]
    }
   ],
   "source": [
    "# test av if satsen + counter: if lower < mean < upper:\n",
    "a_mean = 13\n",
    "a_lower = 5 \n",
    "a_upper = 12\n",
    "a_count = 0\n",
    "if a_lower < a_mean < a_upper:\n",
    "        a_count += 1 \n",
    "print(a_count)\n",
    "\n",
    "# denna fungerar"
   ]
  },
  {
   "cell_type": "code",
   "execution_count": null,
   "id": "627c2aba",
   "metadata": {},
   "outputs": [],
   "source": []
  },
  {
   "cell_type": "markdown",
   "id": "a37d6b79",
   "metadata": {},
   "source": [
    "Relevant ???"
   ]
  },
  {
   "cell_type": "code",
   "execution_count": 60,
   "id": "ab41efb9",
   "metadata": {
    "scrolled": true
   },
   "outputs": [
    {
     "name": "stdout",
     "output_type": "stream",
     "text": [
      "[10.318712216357355, 10.214085308678017, 10.456851890004423, 9.991784691380326, 9.974301114465698, 10.194818956744928, 10.212986140059153, 10.424841553719759, 10.066468826730627, 10.198705810928821]\n",
      "\n",
      "[ 9.46581306 10.17115803]\n"
     ]
    }
   ],
   "source": [
    "print(values)\n",
    "print()\n",
    "print(result)"
   ]
  },
  {
   "cell_type": "code",
   "execution_count": 56,
   "id": "a4d939ab",
   "metadata": {},
   "outputs": [
    {
     "data": {
      "text/plain": [
       "2.500000000000002"
      ]
     },
     "execution_count": 56,
     "metadata": {},
     "output_type": "execute_result"
    }
   ],
   "source": [
    "100*(1-confidence)/2\n",
    "\n"
   ]
  },
  {
   "cell_type": "code",
   "execution_count": 99,
   "id": "5e782bac",
   "metadata": {},
   "outputs": [
    {
     "data": {
      "text/plain": [
       "97.5"
      ]
     },
     "execution_count": 99,
     "metadata": {},
     "output_type": "execute_result"
    }
   ],
   "source": [
    "100*(1-(1-confidence)/2)"
   ]
  },
  {
   "cell_type": "code",
   "execution_count": 111,
   "id": "c587ca7d",
   "metadata": {
    "scrolled": true
   },
   "outputs": [
    {
     "name": "stdout",
     "output_type": "stream",
     "text": [
      "\n"
     ]
    }
   ],
   "source": [
    "values = [np.random.choice(monte_carlo,size=len(monte_carlo),replace=True).mean() for i in range(10)] \n",
    "\n",
    "#print(values)\n",
    "print()\n",
    "#print(monte_carlo)\n"
   ]
  },
  {
   "cell_type": "markdown",
   "id": "0a1f72d4",
   "metadata": {},
   "source": [
    "google sökningar med resultat som hjälpt till resultatet\n",
    "\n",
    "https://towardsdatascience.com/how-to-calculate-confidence-intervals-in-python-a8625a48e62b\n",
    "\n",
    "https://www.google.com/search?q=standard+deviation+python&rlz=1C1FKPE_svSE1022SE1022&oq=standard+deviation+py&aqs=chrome.0.0i512j69i57j0i512l4j0i22i30l4.13002j0j7&sourceid=chrome&ie=UTF-8"
   ]
  },
  {
   "cell_type": "markdown",
   "id": "b2e094ef",
   "metadata": {},
   "source": [
    "## Confidence Intervals for proportions. \n",
    "So far, we have looked at confidence intervals for $\\mu$. Often, we are also interested in proportions, $\\pi$, this is for instance the case in elections that get much attention at TV and \"nyhetsmorgon\". "
   ]
  },
  {
   "cell_type": "markdown",
   "id": "67dee8d6",
   "metadata": {},
   "source": [
    "## Assume we ask 1000 people who they will vote for and 4.2% answer Centerpartiet (C). Create a 90% Confidence Interval to get the proportion that would vote for C if we surveyed the whole population (\"Totalundersökning\"). OBS: note we want a 90% confidence interval."
   ]
  },
  {
   "cell_type": "code",
   "execution_count": null,
   "id": "deda4b24",
   "metadata": {},
   "outputs": [],
   "source": []
  },
  {
   "cell_type": "markdown",
   "id": "42f039ee",
   "metadata": {},
   "source": [
    "## For this question see (p. 177 - 178) in the book. We ask 1000 people who they will vote for, 4.2% answer Centerpartiet (C) and 4.5% answer Liberalerna (L), is there a statistical significant difference between the two parties? \n",
    "\n",
    "## Check if the assumption on  np(1-p) > 5 is satisfied for both poportions."
   ]
  },
  {
   "cell_type": "code",
   "execution_count": null,
   "id": "33358ca0",
   "metadata": {},
   "outputs": [],
   "source": []
  },
  {
   "cell_type": "markdown",
   "id": "cc6d39ad",
   "metadata": {},
   "source": [
    "# Chapter 8 - Hypothesis Testing\n",
    "In the code below, can we reject the hypothesis that $\\mu = 5$ ? Can we reject the hypothesis that $\\mu = 0$ ? How do you interpret the p-value?\n",
    "\n",
    "Read the following documentation: https://docs.scipy.org/doc/scipy/reference/generated/scipy.stats.ttest_1samp.html to understand the function. "
   ]
  },
  {
   "cell_type": "code",
   "execution_count": 29,
   "id": "c0293b33",
   "metadata": {},
   "outputs": [],
   "source": [
    "x = scipy.stats.norm.rvs(loc = 0, scale = 4, size = 100)"
   ]
  },
  {
   "cell_type": "code",
   "execution_count": 31,
   "id": "762425cf",
   "metadata": {},
   "outputs": [
    {
     "name": "stdout",
     "output_type": "stream",
     "text": [
      "Ttest_1sampResult(statistic=-11.860954973656643, pvalue=1.0179211873506776e-20)\n"
     ]
    }
   ],
   "source": [
    "print(scipy.stats.ttest_1samp(x, 5))"
   ]
  },
  {
   "cell_type": "code",
   "execution_count": 33,
   "id": "5c1b2c26",
   "metadata": {},
   "outputs": [
    {
     "name": "stdout",
     "output_type": "stream",
     "text": [
      "Ttest_1sampResult(statistic=-0.29068257828880456, pvalue=0.7719021648598188)\n"
     ]
    }
   ],
   "source": [
    "print(scipy.stats.ttest_1samp(x, 0))"
   ]
  }
 ],
 "metadata": {
  "kernelspec": {
   "display_name": "Python 3 (ipykernel)",
   "language": "python",
   "name": "python3"
  },
  "language_info": {
   "codemirror_mode": {
    "name": "ipython",
    "version": 3
   },
   "file_extension": ".py",
   "mimetype": "text/x-python",
   "name": "python",
   "nbconvert_exporter": "python",
   "pygments_lexer": "ipython3",
   "version": "3.9.12"
  }
 },
 "nbformat": 4,
 "nbformat_minor": 5
}
