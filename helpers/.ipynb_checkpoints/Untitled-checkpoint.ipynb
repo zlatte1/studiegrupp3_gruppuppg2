{
 "cells": [
  {
   "cell_type": "code",
   "execution_count": 2,
   "id": "c575d741",
   "metadata": {},
   "outputs": [
    {
     "ename": "NameError",
     "evalue": "name 'ci_lower' is not defined",
     "output_type": "error",
     "traceback": [
      "\u001b[1;31m---------------------------------------------------------------------------\u001b[0m",
      "\u001b[1;31mNameError\u001b[0m                                 Traceback (most recent call last)",
      "Input \u001b[1;32mIn [2]\u001b[0m, in \u001b[0;36m<cell line: 15>\u001b[1;34m()\u001b[0m\n\u001b[0;32m     21\u001b[0m upper_ci \u001b[38;5;241m=\u001b[39m monte_mean \u001b[38;5;241m+\u001b[39m t_crit \u001b[38;5;241m*\u001b[39m std_error \u001b[38;5;66;03m# övre konfidensvärde\u001b[39;00m\n\u001b[0;32m     23\u001b[0m \u001b[38;5;66;03m# antalet värden i stickprovet(monte) som ligger innanför konfidensintervallet\u001b[39;00m\n\u001b[1;32m---> 24\u001b[0m cap_monte \u001b[38;5;241m=\u001b[39m \u001b[38;5;28mlen\u001b[39m(monte) \u001b[38;5;241m-\u001b[39m np\u001b[38;5;241m.\u001b[39mlogical_or(monte \u001b[38;5;241m<\u001b[39m\u001b[38;5;241m=\u001b[39m \u001b[43mci_lower\u001b[49m, monte \u001b[38;5;241m>\u001b[39m\u001b[38;5;241m=\u001b[39mci_upper)\u001b[38;5;241m.\u001b[39msum() \n\u001b[0;32m     25\u001b[0m \u001b[38;5;66;03m# lista med cap_monte värdet för varje stickprov gånger trials (här 1000)\u001b[39;00m\n\u001b[0;32m     26\u001b[0m rel_freq_monte\u001b[38;5;241m.\u001b[39mappend(cap_monte) \n",
      "\u001b[1;31mNameError\u001b[0m: name 'ci_lower' is not defined"
     ]
    }
   ],
   "source": [
    "import numpy as np\n",
    "import scipy.stats\n",
    "\n",
    "# Favorable outcomes = antalet värden som är innanför konfidens interval vid 95 %\n",
    "rel_freq_monte = [] # lista över favourable outcomes\n",
    "dof = 100-1 # degrees of freedom\n",
    "confidence = 0.95 # konfidensgraden (mellan 0 - 1 (här 95%))\n",
    "r_mu = 10 # real my\n",
    "\n",
    "trials = 1000 # upprepningar av stickprov (monte)\n",
    "\n",
    "t_crit = np.abs(scipy.stats.t.ppf((1-confidence)/2, dof)) # t värdet för konfidensintervallet\n",
    "\n",
    "\n",
    "for i in range(trials):\n",
    "    monte = np.random.normal(r_mu, 3, size=100) # monte = vårt stickprov \n",
    "    monte_mean = np.mean(monte) # medelvärdet på stickprovet \n",
    "    monte_std = np.std(monte, ddof=1) # standardavvikelsen på stickprovet\n",
    "    std_error = monte_std / np.sqrt(len(monte)) # medelfel för stickprovet\n",
    "    lower_ci = monte_mean - t_crit * std_error # undre konfidensvärde\n",
    "    upper_ci = monte_mean + t_crit * std_error # övre konfidensvärde\n",
    "    \n",
    "    # antalet värden i stickprovet(monte) som ligger innanför konfidensintervallet\n",
    "    cap_monte = len(monte) - np.logical_or(monte <= ci_lower, monte >=ci_upper).sum() \n",
    "    # lista med cap_monte värdet för varje stickprov gånger trials (här 1000)\n",
    "    rel_freq_monte.append(cap_monte) \n",
    "\n",
    "\n",
    "    rel_freq_monte = np.array(rel_freq_monte)\n",
    "print(rel_freq_monte)"
   ]
  },
  {
   "cell_type": "code",
   "execution_count": 6,
   "id": "b776e45a",
   "metadata": {},
   "outputs": [
    {
     "name": "stdout",
     "output_type": "stream",
     "text": [
      "[0, 1, 2, 3, 4, 5, 6, 7, 8, 9, 10, 11, 12, 13, 14, 15, 16, 17, 18, 19, 20, 21, 22, 23, 24, 25, 26, 27, 28, 29, 30, 31, 32, 33, 34, 35, 36, 37, 38, 39, 40, 41, 42, 43, 44, 45, 46, 47, 48, 49, 50, 51, 52, 53, 54, 55, 56, 57, 58, 59, 60, 61, 62, 63, 64, 65, 66, 67, 68, 69, 70, 71, 72, 73, 74, 75, 76, 77, 78, 79, 80, 81, 82, 83, 84, 85, 86, 87, 88, 89, 90, 91, 92, 93, 94, 95, 96, 97, 98, 99]\n",
      "[ 0  1  2  3  4  5  6  7  8  9 10 11 12 13 14 15 16 17 18 19 20 21 22 23\n",
      " 24 25 26 27 28 29 30 31 32 33 34 35 36 37 38 39 40 41 42 43 44 45 46 47\n",
      " 48 49 50 51 52 53 54 55 56 57 58 59 60 61 62 63 64 65 66 67 68 69 70 71\n",
      " 72 73 74 75 76 77 78 79 80 81 82 83 84 85 86 87 88 89 90 91 92 93 94 95\n",
      " 96 97 98 99]\n"
     ]
    }
   ],
   "source": [
    "import numpy as np\n",
    "array = []\n",
    "for i in range(100):\n",
    "    array.append(i)\n",
    "    \n",
    "array2 = np.array(array)\n",
    "\n",
    "print(array)\n",
    "print(array2)\n",
    "\n",
    "print(array2.mean())"
   ]
  },
  {
   "cell_type": "code",
   "execution_count": null,
   "id": "cdb03a22",
   "metadata": {},
   "outputs": [],
   "source": []
  }
 ],
 "metadata": {
  "kernelspec": {
   "display_name": "Python 3 (ipykernel)",
   "language": "python",
   "name": "python3"
  },
  "language_info": {
   "codemirror_mode": {
    "name": "ipython",
    "version": 3
   },
   "file_extension": ".py",
   "mimetype": "text/x-python",
   "name": "python",
   "nbconvert_exporter": "python",
   "pygments_lexer": "ipython3",
   "version": "3.9.12"
  }
 },
 "nbformat": 4,
 "nbformat_minor": 5
}
