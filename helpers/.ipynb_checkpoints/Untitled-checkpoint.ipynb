{
 "cells": [
  {
   "cell_type": "code",
   "execution_count": 2,
   "id": "673814ee",
   "metadata": {},
   "outputs": [
    {
     "name": "stdout",
     "output_type": "stream",
     "text": [
      "14.023694118656708\n"
     ]
    }
   ],
   "source": [
    "import numpy as np\n",
    "from scipy.stats import norm\n",
    "\n",
    "K = 90         # strike price\n",
    "s = 100        # initial stock price\n",
    "r = 0.01       # risk free interest rate (continuously compounded)\n",
    "sigma = 0.2    # volatility of the stock\n",
    "T = 1          # time to maturity (years) \n",
    "\n",
    "N = 100000     # size of the Monte Carlo sample\n",
    "\n",
    "# generate Monte Carlo sample\n",
    "mc = np.random.normal(0, np.sqrt(T), N)         # W(T)s \n",
    "mc = s*np.exp((r-0.5*sigma**2)*T + sigma*mc)    # S(T)s\n",
    "mc = np.exp(-r*T)*np.maximum(mc - K, 0)         # option prices\n",
    "\n",
    "price = np.mean(mc)    # estimated price \n",
    "\n",
    "# confidence interval\n",
    "price_std = np.std(mc) / np.sqrt(N)       # standard deviation of the price estimator\n",
    "lo = price - norm.ppf(0.975)*price_std    # lower bound of confidence interval for the price\n",
    "hi = price + norm.ppf(0.975)*price_std    # upper bound of confidence interval for the price\n",
    "\n",
    "\n",
    "print(lo)\n",
    "\n",
    "print(hi)"
   ]
  },
  {
   "cell_type": "code",
   "execution_count": null,
   "id": "8d45cf5a",
   "metadata": {},
   "outputs": [],
   "source": []
  }
 ],
 "metadata": {
  "kernelspec": {
   "display_name": "Python 3 (ipykernel)",
   "language": "python",
   "name": "python3"
  },
  "language_info": {
   "codemirror_mode": {
    "name": "ipython",
    "version": 3
   },
   "file_extension": ".py",
   "mimetype": "text/x-python",
   "name": "python",
   "nbconvert_exporter": "python",
   "pygments_lexer": "ipython3",
   "version": "3.9.12"
  }
 },
 "nbformat": 4,
 "nbformat_minor": 5
}
