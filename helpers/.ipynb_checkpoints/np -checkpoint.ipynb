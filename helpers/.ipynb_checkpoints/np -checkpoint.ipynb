{
 "cells": [
  {
   "cell_type": "code",
   "execution_count": null,
   "id": "b776e45a",
   "metadata": {},
   "outputs": [],
   "source": [
    "import numpy as np\n",
    "array = []\n",
    "for i in range(100):\n",
    "    array.append(i)\n",
    "    \n",
    "array2 = np.array(array)\n",
    "\n",
    "print(array)\n",
    "print(array2)\n",
    "\n",
    "print(array2.mean())"
   ]
  },
  {
   "cell_type": "code",
   "execution_count": null,
   "id": "89cf64ea",
   "metadata": {},
   "outputs": [],
   "source": []
  }
 ],
 "metadata": {
  "kernelspec": {
   "display_name": "Python 3 (ipykernel)",
   "language": "python",
   "name": "python3"
  },
  "language_info": {
   "codemirror_mode": {
    "name": "ipython",
    "version": 3
   },
   "file_extension": ".py",
   "mimetype": "text/x-python",
   "name": "python",
   "nbconvert_exporter": "python",
   "pygments_lexer": "ipython3",
   "version": "3.9.12"
  }
 },
 "nbformat": 4,
 "nbformat_minor": 5
}
