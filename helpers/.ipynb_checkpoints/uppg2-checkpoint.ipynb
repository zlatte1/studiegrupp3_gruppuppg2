{
 "cells": [
  {
   "cell_type": "markdown",
   "id": "b5fc87a3",
   "metadata": {},
   "source": [
    "[10:48 AM] Tommy Nielsen\n",
    "    \"Formlen förutsätter att n*p*(1-p) > 5 är uppfyllt för vart och ett av stickproven.\"\n",
    "​[10:57 AM] Tommy Nielsen\n",
    "    Sida 170 längst upp.\n",
    "Här har vi det. smile\n",
    "Det är för att kolla så att stickprovets storlek är tillräckligt stort. (Återigen är talet 5 vår \"magiska vän\" (som en konvention))\n"
   ]
  },
  {
   "cell_type": "markdown",
   "id": "b0646135",
   "metadata": {},
   "source": [
    "[10:48 AM] Tommy Nielsen\n",
    "    \"Formlen förutsätter att n*p*(1-p) > 5 är uppfyllt för vart och ett av stickproven.\"\n",
    "​[10:57 AM] Tommy Nielsen\n",
    "    Sida 170 längst upp.\n",
    "Här har vi det. smile\n",
    "Det är för att kolla så att stickprovets storlek är tillräckligt stort. (Återigen är talet 5 vår \"magiska vän\" (som en konvention))\n",
    "\n",
    "For this question see (p. 177 - 178) in the book. We ask 1000 people who they will vote for, 4.2% answer Centerpartiet (C) and 4.5% answer Liberalerna (L), is there a statistical significant difference between the two parties?\n",
    "\n",
    "\n",
    "Check if the assumption on np(1-p) > 5 is satisfied for both poportions"
   ]
  },
  {
   "cell_type": "code",
   "execution_count": null,
   "id": "bf447344",
   "metadata": {},
   "outputs": [],
   "source": [
    "N = 1000\n",
    "p = 0.042\n",
    "\n",
    "test = N*p *(1-p) \n",
    "\n",
    "print(test)"
   ]
  },
  {
   "cell_type": "code",
   "execution_count": null,
   "id": "b811dcb7",
   "metadata": {},
   "outputs": [],
   "source": [
    "def calc_assumption(N, p):\n",
    "    \"\"\"\" assumption on np(1-p) > 5\"\"\"\n",
    "    assumption = N * p * (1-p)\n",
    "    boolean = \"\"\n",
    "    if(assumption > 5):\n",
    "        boolean = True\n",
    "    else:\n",
    "        boolean = False\n",
    "    \n",
    "    break_point = (5 / (1-p))/p\n",
    "\n",
    "    return((assumption), (boolean), (break_point))\n",
    "\n",
    "print(calc_assumption.__doc__)\n",
    "centerpartiet = calc_assumption(1000, 0.042)\n",
    "liberalerna  = calc_assumption(1000, 0.045)\n",
    "\n",
    "print(centerpartiet)\n",
    "print(liberalerna)"
   ]
  },
  {
   "cell_type": "code",
   "execution_count": null,
   "id": "9a290368",
   "metadata": {},
   "outputs": [],
   "source": []
  }
 ],
 "metadata": {
  "kernelspec": {
   "display_name": "Python 3 (ipykernel)",
   "language": "python",
   "name": "python3"
  },
  "language_info": {
   "codemirror_mode": {
    "name": "ipython",
    "version": 3
   },
   "file_extension": ".py",
   "mimetype": "text/x-python",
   "name": "python",
   "nbconvert_exporter": "python",
   "pygments_lexer": "ipython3",
   "version": "3.9.12"
  }
 },
 "nbformat": 4,
 "nbformat_minor": 5
}
