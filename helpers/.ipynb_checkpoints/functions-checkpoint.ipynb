{
 "cells": [
  {
   "cell_type": "markdown",
   "id": "44985c25",
   "metadata": {},
   "source": [
    "# 6  - Vectors"
   ]
  },
  {
   "cell_type": "code",
   "execution_count": null,
   "id": "55fedbc4",
   "metadata": {},
   "outputs": [],
   "source": [
    "import numpy as np\n",
    "import matplotlib.pyplot as plt \n",
    "\n",
    "def create_np_array(r, N, STD, size):\n",
    "    empty_list = []\n",
    "    for i in range(r):\n",
    "        rand = np.random.normal(N, STD, size) \n",
    "        x = rand.mean()\n",
    "        empty_list.append(x) \n",
    "    return np.array(empty_list) \n",
    "   \n",
    "def plot_histogram(data):\n",
    "    fig, ax = plt.subplots()\n",
    "    for i in data:\n",
    "        ax.hist(i[0], label = i[1], histtype = i[2])\n",
    "    ax.legend() \n",
    "    plt.show()\n",
    "\n",
    "x1 = create_np_array(100, 10, 5, 100)\n",
    "x2 = create_np_array(100, 10, 20, 100)\n",
    "plot_histogram([(x1, \"x1 - 100\", \"step\"), (x2, \"x2 - 100\", \"step\")])\n",
    "\n",
    "x3 = create_np_array(1000, 10, 5, 100)\n",
    "x4 = create_np_array(1000, 10, 20, 100)\n",
    "plot_histogram([(x3, \"x3 - 1,000\", \"step\"), (x4, \"x4- 1,000\", \"step\")])\n",
    "\n",
    "x5 = create_np_array(10000, 10, 5, 100)\n",
    "x6 = create_np_array(10000, 10, 20, 100)\n",
    "plot_histogram([(x5, \"x5 - 10,000\", \"step\"), (x6, \"x6- 10,000\", \"step\")])"
   ]
  },
  {
   "cell_type": "markdown",
   "id": "d446b402",
   "metadata": {},
   "source": [
    "# 7 - part1 - Confidence Intervals"
   ]
  },
  {
   "cell_type": "code",
   "execution_count": null,
   "id": "cce156ea",
   "metadata": {},
   "outputs": [],
   "source": [
    "import numpy as np\n",
    "def calc_real_ci(N, STD, Z):\n",
    "    \"\"\"Calculate Confidence Interval for real mu (theoretical) \\nlower_ci = 𝑃(𝑋>N+Z∗STD)\\nupper_ci = 𝑃(𝑋>N-Z∗STD) \\nN = real_mu | STD= Standard deviation | Z = from the table\"\"\"\n",
    "    lower_ci = N - Z*STD\n",
    "    upper_ci = N + Z*STD\n",
    "    return lower_ci, upper_ci\n",
    "\n",
    "print(calc_real_ci.__doc__)\n",
    "lower_ci, upper_ci = calc_real_ci(100, 3, 1.96)       \n",
    "print(lower_ci)\n",
    "print(upper_ci)"
   ]
  },
  {
   "cell_type": "code",
   "execution_count": null,
   "id": "16895706",
   "metadata": {},
   "outputs": [],
   "source": [
    "import numpy as np\n",
    "def calc_mean_mu(N, STD, size, Z, trials):\n",
    "    rel_freq = []\n",
    "    for i in range(trials):\n",
    "        lower_ci = N - Z*STD\n",
    "        upper_ci = N + Z*STD\n",
    "        array = np.random.normal(N, STD, size)\n",
    "        real_mu_count = ((lower_ci < array) & (array < upper_ci)).sum()\n",
    "        real_mu_per = real_mu_count/size*100\n",
    "        rel_freq.append(real_mu_per)\n",
    "    return sum(rel_freq)/len(rel_freq)\n",
    "\n",
    "my_mu = calc_mean_mu(10, 3, 30, 1.96, 1000)     \n",
    "\n",
    "print(my_mu)"
   ]
  },
  {
   "cell_type": "code",
   "execution_count": null,
   "id": "d22617bc",
   "metadata": {},
   "outputs": [],
   "source": [
    "import numpy as np\n",
    "import scipy.stats\n",
    "\n",
    "def cap_real_mu(N, STD, size, trials, confidence):\n",
    "    \"\"\"CI = x_bar +/- t.crit * std_error\n",
    "    CI = Confidence Intervals (lower_ci, upper_ci)\n",
    "    x_bar = x_mean\n",
    "    t_crit = np.aps(spicy.stats.t.ppf((1-confidence)/2, dof))\n",
    "            confidence = Confidence Level 0 < CL < 1\n",
    "            dof = Degrees Of Freedom (sizeOfSample-1)\n",
    "    std_error = (s/sqrt(n)) \n",
    "            s = Standard Deviation\n",
    "            n = size of Sample\n",
    "\n",
    "    Functions takes argument:\n",
    "    N/mu = real_mu\n",
    "    STD = Standard deviation \n",
    "    size = number of sample size \n",
    "    trials = number of trials \n",
    "    confidence level, 0 < CL < 1 \n",
    "    \n",
    "    Return is a tuple:\n",
    "    number of real_mu_captured, % av real_mu_captured, expected_res, expected_%\"\"\"\n",
    "    capture_real_mu = 0\n",
    "    for i in range(trials):\n",
    "        monte_carlo = np.random.normal(N, STD, size=size)\n",
    "        m = monte_carlo.mean() \n",
    "        s = monte_carlo.std() \n",
    "        dof = len(monte_carlo)-1 \n",
    "        t_crit = np.abs(scipy.stats.t.ppf((1-confidence)/2, dof))\n",
    "        std_error = s/np.sqrt(len(monte_carlo))\n",
    "        lower_ci = m - t_crit * std_error\n",
    "        upper_ci = m + t_crit * std_error\n",
    "        if(lower_ci < N < upper_ci):\n",
    "            capture_real_mu += 1\n",
    "            \n",
    "        capture_real_mu_percent = (capture_real_mu/trials)*100\n",
    "        expected_real_mu = confidence*trials\n",
    "        expected_real_mu_percent = ((confidence*trials)/trials)*100\n",
    "\n",
    "    return((capture_real_mu), (capture_real_mu_percent), (expected_real_mu), (expected_real_mu_percent))\n",
    "        \n",
    "print(cap_real_mu.__doc__)\n",
    "print(cap_real_mu(10, 3, 100, 1000, 0.95))\n",
    "\n",
    "print(cap_real_mu(10, 3, 100, 1000, 0.90))"
   ]
  }
 ],
 "metadata": {
  "kernelspec": {
   "display_name": "Python 3 (ipykernel)",
   "language": "python",
   "name": "python3"
  },
  "language_info": {
   "codemirror_mode": {
    "name": "ipython",
    "version": 3
   },
   "file_extension": ".py",
   "mimetype": "text/x-python",
   "name": "python",
   "nbconvert_exporter": "python",
   "pygments_lexer": "ipython3",
   "version": "3.9.12"
  }
 },
 "nbformat": 4,
 "nbformat_minor": 5
}
