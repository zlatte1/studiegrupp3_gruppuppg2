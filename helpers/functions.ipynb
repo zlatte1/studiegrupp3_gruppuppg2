{
 "cells": [
  {
   "cell_type": "markdown",
   "id": "44985c25",
   "metadata": {},
   "source": [
    "# 6  - Vectors"
   ]
  },
  {
   "cell_type": "code",
   "execution_count": null,
   "id": "55fedbc4",
   "metadata": {},
   "outputs": [],
   "source": [
    "import numpy as np\n",
    "import matplotlib.pyplot as plt \n",
    "\n",
    "def create_np_array(r, N, STD, size):\n",
    "    empty_list = []\n",
    "    for i in range(r):\n",
    "        rand = np.random.normal(N, STD, size) \n",
    "        x = rand.mean()\n",
    "        empty_list.append(x) \n",
    "    return np.array(empty_list) \n",
    "   \n",
    "def plot_histogram(data):\n",
    "    fig, ax = plt.subplots()\n",
    "    for i in data:\n",
    "        ax.hist(i[0], label = i[1], histtype = i[2])\n",
    "    ax.legend() \n",
    "    plt.show()\n",
    "\n",
    "x1 = create_np_array(100, 10, 5, 100)\n",
    "x2 = create_np_array(100, 10, 20, 100)\n",
    "plot_histogram([(x1, \"x1 - 100\", \"step\"), (x2, \"x2 - 100\", \"step\")])\n",
    "\n",
    "x3 = create_np_array(1000, 10, 5, 100)\n",
    "x4 = create_np_array(1000, 10, 20, 100)\n",
    "plot_histogram([(x3, \"x3 - 1,000\", \"step\"), (x4, \"x4- 1,000\", \"step\")])\n",
    "\n",
    "x5 = create_np_array(10000, 10, 5, 100)\n",
    "x6 = create_np_array(10000, 10, 20, 100)\n",
    "plot_histogram([(x5, \"x5 - 10,000\", \"step\"), (x6, \"x6- 10,000\", \"step\")])"
   ]
  },
  {
   "cell_type": "markdown",
   "id": "d446b402",
   "metadata": {},
   "source": [
    "# 7 - part1 - Confidence Intervals"
   ]
  },
  {
   "cell_type": "code",
   "execution_count": 1,
   "id": "e2aff949",
   "metadata": {},
   "outputs": [],
   "source": [
    "#Calc_ci for calculating Conficdence Intervals\n",
    "#returns tuple (lower_ci, upper_ci)\n",
    "#Calc_relfreq \n",
    "#returns a double of the samples falling outside the CI\n",
    "\n",
    "import numpy as np\n",
    "\n",
    "def calc_ci(N, STD, Z):\n",
    "    return((N-STD*Z), N+STD*Z)\n",
    "\n",
    "def calc_relfreq(N , STD, size, Z):\n",
    "    array =  np.random.normal(N, STD, size=size)\n",
    "    ci_lower, ci_upper = calc_ci(N, STD, Z)\n",
    "    count = 0\n",
    "    for i in array:\n",
    "        if(ci_lower < i < ci_upper):\n",
    "            count += 1\n",
    "    return 100-((count/len(array)*100))\n",
    "        \n",
    "rel_10 = calc_relfreq(10,3,10, 1.96)\n",
    "rel_100 = calc_relfreq(10,3,100, 1.96)\n",
    "rel_1000 = calc_relfreq(10,3,1000, 1.96)\n",
    "rel_10000 = calc_relfreq(10,3,10000, 1.96)\n"
   ]
  },
  {
   "cell_type": "markdown",
   "id": "1d6b36b1",
   "metadata": {},
   "source": [
    "# 7 - part1 - Confidence Intervals"
   ]
  },
  {
   "cell_type": "code",
   "execution_count": 46,
   "id": "541a2a96",
   "metadata": {},
   "outputs": [
    {
     "name": "stdout",
     "output_type": "stream",
     "text": [
      "(9.9911207041854, 9.997119149028295, 0.0843)\n"
     ]
    }
   ],
   "source": [
    "#\n",
    "import scipy.stats\n",
    "import numpy as np\n",
    "\n",
    "def calc_montecarlo(N, STD, size, confidence):\n",
    "    monte_carlo =  np.random.normal(N, STD, size=size)\n",
    "    monte_carlo_mean = monte_carlo.mean()\n",
    "    monte_carlo_std = monte_carlo.std()\n",
    "    dof = len(monte_carlo) - 1\n",
    "    t_crit = np.abs(scipy.stats.t.ppf((1-confidence)/2, dof))\n",
    "    lower_ci = monte_carlo_mean-monte_carlo_std/np.sqrt(len(monte_carlo))\n",
    "    upper_ci = monte_carlo_mean+monte_carlo_std/np.sqrt(len(monte_carlo))\n",
    "    count = 0\n",
    "    for i in monte_carlo:\n",
    "        if(lower_ci < i < upper_ci):\n",
    "            count += 1\n",
    "    real_freq = count /len(monte_carlo)*100\n",
    "    return ((lower_ci), (upper_ci), (real_freq))\n",
    "\n",
    "def calc_montecarlo_trials(N, STD, size, confidence, trials):\n",
    "    for i in range(trials):\n",
    "        lower_ci, upper_ci = calc_montecarlo(N, STD, size, confidence)\n",
    "        print(lower_ci, upper_ci)\n",
    "    \n",
    "\n",
    "print(calc_montecarlo(10, 3, 1000000, 0.95))\n",
    "\n",
    "    \n",
    "    \n",
    "    \n",
    "#print(calc_montecarlo_trials(10, 3, 100, 0.95, 5))"
   ]
  },
  {
   "cell_type": "markdown",
   "id": "cf26c04c",
   "metadata": {},
   "source": [
    "# 7 - part2 - Confidence Intervals for proportions"
   ]
  },
  {
   "cell_type": "code",
   "execution_count": null,
   "id": "64ae673e",
   "metadata": {},
   "outputs": [],
   "source": [
    "#How to calculate CI when we know:\n",
    "#population and favourable_outcome || missing: standardDIV, x_bar\n",
    "# N = number of samplesize\n",
    "# x = favourable_outcome\n",
    "# CL = Confidencelevel in fraction\n",
    "# Z = from z-table; 95% = 1.9600, 90% = 1.6449\n",
    "# return is a tuple (lower_ci, upper_ci)\n",
    "# Calulator to check that the function works as expected || https://sample-size.net/confidence-interval-proportion/ \n",
    "\n",
    "import numpy as np\n",
    "def calc_ci(N, x, CL, Z):\n",
    "    SEM = np.sqrt((x*(N-x)/N**3))\n",
    "    PPR = x/N\n",
    "    return ((PPR-(Z*SEM)),(PPR+(Z*SEM)))\n",
    "\n",
    "lower_ci, upper_ci = calc_ci(1000, 42, 0.90, 1.6449)\n",
    "print(lower_ci)\n",
    "print(upper_ci)"
   ]
  },
  {
   "cell_type": "markdown",
   "id": "175f0467",
   "metadata": {},
   "source": [
    "# 7 - part2 - Significant difference"
   ]
  },
  {
   "cell_type": "code",
   "execution_count": null,
   "id": "17e7697e",
   "metadata": {},
   "outputs": [],
   "source": [
    "#Calculate Significant difference\n",
    "# p1 = number of favourable_outcome sample1\n",
    "# n1 = number of samplesize sample1\n",
    "# p2 = number of favourable_outcome sample2\n",
    "# n2 = number of samplesize sample2\n",
    "# return is a boolean \n",
    "# Z = from z-table, 95% CL = 1.96, 90% = 1.6449\n",
    "# source | https://help.surveymonkey.com/en/analyze/significant-differences/\n",
    "\n",
    "import numpy as np\n",
    "def calc_significant_diff(p1, n1, p2, n2, Z):\n",
    "    a1 = p1/n1*n1\n",
    "    b1 = p2/n2*n2\n",
    "    p = (p1+p2) / (n1+n2)\n",
    "    SE = np.sqrt((p*(1-p)) * ((1/n1) +(1/n2)))\n",
    "    t = (p1/n1-p2/n2) / SE\n",
    "    if(t > Z):\n",
    "        return True\n",
    "    else:\n",
    "        return False\n",
    "\n",
    "calc_significant_diff(42, 1000, 45, 1000, 1.6449)"
   ]
  }
 ],
 "metadata": {
  "kernelspec": {
   "display_name": "Python 3 (ipykernel)",
   "language": "python",
   "name": "python3"
  },
  "language_info": {
   "codemirror_mode": {
    "name": "ipython",
    "version": 3
   },
   "file_extension": ".py",
   "mimetype": "text/x-python",
   "name": "python",
   "nbconvert_exporter": "python",
   "pygments_lexer": "ipython3",
   "version": "3.9.12"
  }
 },
 "nbformat": 4,
 "nbformat_minor": 5
}
