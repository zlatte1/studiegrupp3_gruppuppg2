{
 "cells": [
  {
   "cell_type": "markdown",
   "id": "44985c25",
   "metadata": {},
   "source": [
    "# 6  - Vectors"
   ]
  },
  {
   "cell_type": "code",
   "execution_count": null,
   "id": "55fedbc4",
   "metadata": {},
   "outputs": [],
   "source": [
    "import numpy as np\n",
    "import matplotlib.pyplot as plt \n",
    "\n",
    "def create_np_array(r, N, STD, size):\n",
    "    empty_list = []\n",
    "    for i in range(r):\n",
    "        rand = np.random.normal(N, STD, size) \n",
    "        x = rand.mean()\n",
    "        empty_list.append(x) \n",
    "    return np.array(empty_list) \n",
    "   \n",
    "def plot_histogram(data):\n",
    "    fig, ax = plt.subplots()\n",
    "    for i in data:\n",
    "        ax.hist(i[0], label = i[1], histtype = i[2])\n",
    "    ax.legend() \n",
    "    plt.show()\n",
    "\n",
    "x1 = create_np_array(100, 10, 5, 100)\n",
    "x2 = create_np_array(100, 10, 20, 100)\n",
    "plot_histogram([(x1, \"x1 - 100\", \"step\"), (x2, \"x2 - 100\", \"step\")])\n",
    "\n",
    "x3 = create_np_array(1000, 10, 5, 100)\n",
    "x4 = create_np_array(1000, 10, 20, 100)\n",
    "plot_histogram([(x3, \"x3 - 1,000\", \"step\"), (x4, \"x4- 1,000\", \"step\")])\n",
    "\n",
    "x5 = create_np_array(10000, 10, 5, 100)\n",
    "x6 = create_np_array(10000, 10, 20, 100)\n",
    "plot_histogram([(x5, \"x5 - 10,000\", \"step\"), (x6, \"x6- 10,000\", \"step\")])"
   ]
  },
  {
   "cell_type": "markdown",
   "id": "d446b402",
   "metadata": {},
   "source": [
    "# 7 - part1 - Confidence Intervals"
   ]
  },
  {
   "cell_type": "markdown",
   "id": "ece3b3f6",
   "metadata": {},
   "source": [
    "Calculate Confidence Interval for real mu (theoretical)\n",
    "lower_ci = 𝑃(𝑋>N+Z∗STD)\n",
    "upper_ci = 𝑃(𝑋>N-Z∗STD)"
   ]
  },
  {
   "cell_type": "code",
   "execution_count": 1,
   "id": "cce156ea",
   "metadata": {},
   "outputs": [],
   "source": [
    "import numpy as np\n",
    "def calc_mean_mu(N, STD, size, Z, trials):\n",
    "    rel_freq = []\n",
    "    for i in range(trials):\n",
    "        lower_ci = N - Z*STD\n",
    "        upper_ci = N + Z*STD\n",
    "        array = np.random.normal(N, STD, size)\n",
    "        real_mu_count = ((lower_ci < array) & (array < upper_ci)).sum()\n",
    "        real_mu_per = real_mu_count/size*100\n",
    "        rel_freq.append(real_mu_per)\n",
    "    return sum(rel_freq)/len(rel_freq)\n",
    "\n",
    "my_mu = calc_mean_mu(10, 3, 30, 1.96, 1000)       "
   ]
  },
  {
   "cell_type": "code",
   "execution_count": 11,
   "id": "4e64a407",
   "metadata": {},
   "outputs": [
    {
     "name": "stdout",
     "output_type": "stream",
     "text": [
      "126.67356444435492\n",
      "127.92643555564507\n",
      "113.26009000529604\n",
      "129.13990999470397\n"
     ]
    }
   ],
   "source": [
    "import numpy as np\n",
    "import matplotlib.pyplot as plt \n",
    "import scipy.stats\n",
    "\n",
    "\n",
    "#Confidence Intervals for μ\n",
    "#For n => 30\n",
    "#x_bar +- Z (s/sqrt(n))\n",
    "#true_mean =>\n",
    "\n",
    "x_mean = 127.3\n",
    "Z = 1.96\n",
    "SDV = 19.0\n",
    "n = 3534\n",
    "\n",
    "lower_ci = x_mean - Z *(SDV/np.sqrt(n))\n",
    "upper_ci = x_mean + Z *(SDV/np.sqrt(n))\n",
    "\n",
    "print(lower_ci)\n",
    "print(upper_ci)\n",
    "\n",
    "\n",
    "#Confidence Intervals for μ\n",
    "#For n < 30\n",
    "#x_bar +- t (s/sqrt(n))\n",
    "#true_mean =>\n",
    "\n",
    "x_mean_2 = 121.2\n",
    "sdv_2 = 11.1\n",
    "n_2 = 10\n",
    "t = 2.262\n",
    "\n",
    "lower_ci_t = x_mean_2 - t *(sdv_2/np.sqrt(n_2))\n",
    "upper_ci_t = x_mean_2 + t *(sdv_2/np.sqrt(n_2))\n",
    "\n",
    "print(lower_ci_t)\n",
    "print(upper_ci_t)"
   ]
  },
  {
   "cell_type": "code",
   "execution_count": 64,
   "id": "137f7817",
   "metadata": {},
   "outputs": [
    {
     "name": "stdout",
     "output_type": "stream",
     "text": [
      "9.345956106464588\n",
      "3.641631042202955\n",
      "8.042815174086524\n",
      "10.649097038842651\n"
     ]
    }
   ],
   "source": [
    "import numpy as np\n",
    "import matplotlib.pyplot as plt \n",
    "import scipy.stats\n",
    "\n",
    "array = np.random.normal(10, 3, 30)\n",
    "\n",
    "x_bar = array.mean()\n",
    "s = array.std()\n",
    "print(x_bar)\n",
    "print(s)\n",
    "Z = 1.96\n",
    "n = 30\n",
    "\n",
    "lower_ci = x_bar - Z *(s/np.sqrt(n))\n",
    "upper_ci = x_bar + Z *(s/np.sqrt(n))\n",
    "\n",
    "print(lower_ci)\n",
    "print(upper_ci)"
   ]
  },
  {
   "cell_type": "code",
   "execution_count": 63,
   "id": "f736f6e2",
   "metadata": {},
   "outputs": [
    {
     "name": "stdout",
     "output_type": "stream",
     "text": [
      "4.12\n",
      "15.879999999999999\n"
     ]
    }
   ],
   "source": [
    "import numpy as np\n",
    "import matplotlib.pyplot as plt \n",
    "import scipy.stats\n",
    "\n",
    "s = 3\n",
    "Z = 1.96\n",
    "n = 30\n",
    "\n",
    "lower_ci = N-(Z*STD)\n",
    "upper_ci = N+(Z*STD)\n",
    "\n",
    "print(lower_ci)\n",
    "print(upper_ci)"
   ]
  },
  {
   "cell_type": "code",
   "execution_count": 43,
   "id": "61ab9e10",
   "metadata": {},
   "outputs": [
    {
     "name": "stdout",
     "output_type": "stream",
     "text": [
      "29.939062563825903\n",
      "30.31327555863731\n"
     ]
    }
   ],
   "source": [
    "import numpy as np\n",
    "import matplotlib.pyplot as plt \n",
    "import scipy.stats\n",
    "monte_carlo = np.random.normal(30, 3, size=1000)\n",
    "\n",
    "m = monte_carlo.mean() \n",
    "s = monte_carlo.std() \n",
    "dof = len(monte_carlo)-1 \n",
    "confidence = 0.95\n",
    "\n",
    "# np.abs - för att få endast positiva värden\n",
    "#t kommer från scipy.stats\n",
    "t_crit = np.abs(scipy.stats.t.ppf((1-confidence)/2, dof))\n",
    "\n",
    "lower_ci = m-s*t_crit/np.sqrt(len(monte_carlo))\n",
    "upper_ci = m+s*t_crit/np.sqrt(len(monte_carlo))\n",
    "\n",
    "print(lower_ci)\n",
    "print(upper_ci)"
   ]
  },
  {
   "cell_type": "code",
   "execution_count": 11,
   "id": "0c13f12f",
   "metadata": {},
   "outputs": [
    {
     "name": "stdout",
     "output_type": "stream",
     "text": [
      "10.0\n",
      "1.0\n",
      "4.6000000000000085\n",
      "5.079999999999998\n"
     ]
    }
   ],
   "source": [
    "import scipy.stats\n",
    "import numpy as np\n",
    "\n",
    "def rel_freq(N, STD, Z, size):\n",
    "    array_np = np.random.normal(N, STD, size)\n",
    "    lower_ci = N-(Z*STD)\n",
    "    upper_ci = N+(Z*STD)\n",
    "    real_mu_count = ((lower_ci < array_np) & (array_np < upper_ci)).sum()\n",
    "    return 100-((real_mu_count/size)*100)\n",
    "\n",
    "print(rel_freq(10, 3, 1.96, 10))\n",
    "print(rel_freq(10, 3, 1.96, 100))\n",
    "print(rel_freq(10, 3, 1.96, 1000))\n",
    "print(rel_freq(10, 3, 1.96, 10000))"
   ]
  },
  {
   "cell_type": "markdown",
   "id": "5944ba31",
   "metadata": {},
   "source": [
    "x = dataset\n",
    "\n",
    "n = sample size\n",
    "m = x.mean() \n",
    "s = x.std() \n",
    "dof = len(x)-1 \n",
    "confidence = 0 < x < 1\n",
    "\n",
    "t_crit = np.abs(t.ppf((1-confidence)/2,dof))\n",
    "ci_lower = m - t_crit (s / sqrt(n))\n",
    "ci_lower = m + t_crit (s / sqrt(n))\n",
    "\n",
    "values = [np.random.choice(x,size=len(x),replace=True).mean() for i in range(1000)] \n",
    "np.percentile(values,[100*(1-confidence)/2,100*(1-(1-confidence)/2)]) \n"
   ]
  },
  {
   "cell_type": "code",
   "execution_count": 2,
   "id": "58b13406",
   "metadata": {},
   "outputs": [
    {
     "name": "stdout",
     "output_type": "stream",
     "text": [
      "9.584203254336341\n",
      "10.717698902508914\n",
      "9.603407514572796\n",
      "10.723733004053026\n"
     ]
    }
   ],
   "source": [
    "import numpy as np \n",
    "from scipy.stats import t\n",
    "\n",
    "x = np.random.normal(size=100)\n",
    "x = np.random.normal(10,3, 100)\n",
    "\n",
    "m = x.mean() \n",
    "s = x.std() \n",
    "dof = len(x)-1 \n",
    "confidence = 0.95\n",
    "\n",
    "t_crit = np.abs(t.ppf((1-confidence)/2,dof))\n",
    "\n",
    "lower_ci = m-s*t_crit/np.sqrt(len(x))\n",
    "upper_ci = m+s*t_crit/np.sqrt(len(x))\n",
    "values = [np.random.choice(x,size=len(x),replace=True).mean() for i in range(1000)] \n",
    "lower_ci_1000, upper_ci_1000 = np.percentile(values,[100*(1-confidence)/2,100*(1-(1-confidence)/2)]) \n",
    "\n",
    "print(lower_ci)\n",
    "print(upper_ci)\n",
    "#print(values)\n",
    "print(lower_ci_1000)\n",
    "print(upper_ci_1000)"
   ]
  },
  {
   "cell_type": "code",
   "execution_count": 9,
   "id": "e540285a",
   "metadata": {},
   "outputs": [
    {
     "name": "stdout",
     "output_type": "stream",
     "text": [
      "100000\n"
     ]
    }
   ],
   "source": [
    "rel_freq =0\n",
    "for i in range(100000):\n",
    "    \n",
    "    x2 = np.random.normal(10,3, 100)\n",
    "\n",
    "    m = x2.mean() \n",
    "    s = x2.std() \n",
    "    dof = len(x)-1 \n",
    "    confidence = 0.95\n",
    "\n",
    "    t_crit = np.abs(t.ppf((1-confidence)/2,dof))\n",
    "\n",
    "    lower_ci = m-s*t_crit/np.sqrt(len(x))\n",
    "    upper_ci = m+s*t_crit/np.sqrt(len(x))\n",
    "    \n",
    "    if(lower_ci < m < upper_ci):\n",
    "        rel_freq += 1\n",
    "    \n",
    "\n",
    "print(rel_freq)\n",
    "#print(lower_ci)\n",
    "#print(m)\n",
    "#print(upper_ci)"
   ]
  },
  {
   "cell_type": "code",
   "execution_count": 18,
   "id": "0ad74c90",
   "metadata": {},
   "outputs": [
    {
     "name": "stdout",
     "output_type": "stream",
     "text": [
      "126.67356444435492\n",
      "127.92643555564507\n"
     ]
    }
   ],
   "source": [
    "import numpy as np\n",
    "\n",
    "N = 10\n",
    "Z = 1.96\n",
    "x_bar = 127.3\n",
    "sdv = 19.0\n",
    "n = 3534\n",
    "\n",
    "ci_low = x_bar-(Z*(sdv/np.sqrt(n)))\n",
    "ci_high = x_bar+(Z*(sdv/np.sqrt(n)))\n",
    "\n",
    "print(ci_low)\n",
    "print(ci_high)"
   ]
  },
  {
   "cell_type": "markdown",
   "id": "1d6b36b1",
   "metadata": {},
   "source": [
    "# 7 - part1 - Confidence Intervals"
   ]
  },
  {
   "cell_type": "markdown",
   "id": "cf26c04c",
   "metadata": {},
   "source": [
    "# 7 - part2 - Confidence Intervals for proportions"
   ]
  },
  {
   "cell_type": "code",
   "execution_count": 4,
   "id": "64ae673e",
   "metadata": {},
   "outputs": [
    {
     "name": "stdout",
     "output_type": "stream",
     "text": [
      "0.031566094467632935\n",
      "0.05243390553236707\n"
     ]
    }
   ],
   "source": [
    "#How to calculate CI when we know:\n",
    "#population and favourable_outcome || missing: standardDIV, x_bar\n",
    "# N = number of samplesize\n",
    "# x = favourable_outcome\n",
    "# CL = Confidencelevel in fraction\n",
    "# Z = from z-table; 95% = 1.9600, 90% = 1.6449\n",
    "# return is a tuple (lower_ci, upper_ci)\n",
    "# Calulator to check that the function works as expected || https://sample-size.net/confidence-interval-proportion/ \n",
    "\n",
    "import numpy as np\n",
    "def calc_ci(N, x, CL, Z):\n",
    "    SEM = np.sqrt((x*(N-x)/N**3))\n",
    "    PPR = x/N\n",
    "    return ((PPR-(Z*SEM)),(PPR+(Z*SEM)))\n",
    "\n",
    "lower_ci, upper_ci = calc_ci(1000, 42, 0.90, 1.6449)\n",
    "print(lower_ci)\n",
    "print(upper_ci)"
   ]
  },
  {
   "cell_type": "markdown",
   "id": "175f0467",
   "metadata": {},
   "source": [
    "# 7 - part2 - Significant difference"
   ]
  },
  {
   "cell_type": "code",
   "execution_count": null,
   "id": "17e7697e",
   "metadata": {},
   "outputs": [],
   "source": [
    "#Calculate Significant difference\n",
    "# p1 = number of favourable_outcome sample1\n",
    "# n1 = number of samplesize sample1\n",
    "# p2 = number of favourable_outcome sample2\n",
    "# n2 = number of samplesize sample2\n",
    "# return is a boolean \n",
    "# Z = from z-table, 95% CL = 1.96, 90% = 1.6449\n",
    "# source | https://help.surveymonkey.com/en/analyze/significant-differences/\n",
    "\n",
    "import numpy as np\n",
    "def calc_significant_diff(p1, n1, p2, n2, Z):\n",
    "    a1 = p1/n1*n1\n",
    "    b1 = p2/n2*n2\n",
    "    p = (p1+p2) / (n1+n2)\n",
    "    SE = np.sqrt((p*(1-p)) * ((1/n1) +(1/n2)))\n",
    "    t = (p1/n1-p2/n2) / SE\n",
    "    if(t > Z):\n",
    "        return True\n",
    "    else:\n",
    "        return False\n",
    "\n",
    "calc_significant_diff(42, 1000, 45, 1000, 1.6449)"
   ]
  }
 ],
 "metadata": {
  "kernelspec": {
   "display_name": "Python 3 (ipykernel)",
   "language": "python",
   "name": "python3"
  },
  "language_info": {
   "codemirror_mode": {
    "name": "ipython",
    "version": 3
   },
   "file_extension": ".py",
   "mimetype": "text/x-python",
   "name": "python",
   "nbconvert_exporter": "python",
   "pygments_lexer": "ipython3",
   "version": "3.9.12"
  }
 },
 "nbformat": 4,
 "nbformat_minor": 5
}
