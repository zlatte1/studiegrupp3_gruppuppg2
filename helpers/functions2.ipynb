{
 "cells": [
  {
   "cell_type": "markdown",
   "id": "ddf91ab1",
   "metadata": {},
   "source": [
    "## Assume you have 100 observations from N(10, 3), you calculate a confidence interval and check if it \"captures\" the real $\\mu$ (we know the reality since we are doing a monte carlo simulation), how often do you \"capture\" the real mu (in \\%) when you repeat this 1000 times? How is this knowledge useful in reality?\n",
    "\n",
    "## Note, the difference between this question and the one above is that here we calculate the sample mean and sample standard deviation to construct confidence intervals whereas above we used that we \"knew the reality\" ($\\mu$ and $\\sigma$), i.e. ci_lower <- 10 - 1.96*3 and  ci_upper <- 10 + 1.96*3. Obviosuly, this is not the case in reality.\n"
   ]
  },
  {
   "cell_type": "markdown",
   "id": "b1d52956",
   "metadata": {},
   "source": [
    "Part I = one Monte Carlo sim"
   ]
  },
  {
   "cell_type": "code",
   "execution_count": 9,
   "id": "e1e6f9c9",
   "metadata": {
    "scrolled": true
   },
   "outputs": [
    {
     "name": "stdout",
     "output_type": "stream",
     "text": [
      "With 95.0 % confidence the real mu is between 9.500232601941425 and 10.598646450420977\n"
     ]
    }
   ],
   "source": [
    "monte_carlo = np.random.normal(10, 3, size=100)\n",
    "\n",
    "m = monte_carlo.mean() \n",
    "s = monte_carlo.std() \n",
    "dof = len(monte_carlo)-1 \n",
    "confidence = 0.95\n",
    "\n",
    "# np.abs - för att få endast positiva värden\n",
    "#t kommer från scipy.stats\n",
    "t_crit = np.abs(scipy.stats.t.ppf((1-confidence)/2, dof))\n",
    "\n",
    "lower_ci = m-s*t_crit/np.sqrt(len(monte_carlo))\n",
    "upper_ci = m+s*t_crit/np.sqrt(len(monte_carlo))\n",
    "\n",
    "print('With', confidence*100, '% confidence the real mu is between', lower_ci, 'and', upper_ci )\n"
   ]
  },
  {
   "cell_type": "markdown",
   "id": "d822dc2c",
   "metadata": {},
   "source": [
    "Part II = the % of trails that is within 95% confidence out of \"n\" (1000) trails "
   ]
  },
  {
   "cell_type": "code",
   "execution_count": 10,
   "id": "4a9aa415",
   "metadata": {
    "scrolled": true
   },
   "outputs": [
    {
     "name": "stdout",
     "output_type": "stream",
     "text": [
      "42\n",
      "48\n",
      "44\n",
      "48\n",
      "41\n",
      "52\n",
      "45\n"
     ]
    }
   ],
   "source": [
    "rel_freq_monte = []\n",
    "dof = 100-1 \n",
    "dof_2 = 1000-1\n",
    "confidence = 0.95\n",
    "\n",
    "trials = 1000\n",
    "\n",
    "\n",
    "t_crit = np.abs(scipy.stats.t.ppf((1-confidence)/2, dof))\n",
    "t_crit_2 = np.abs(scipy.stats.t.ppf((1-confidence)/2, dof_2))\n",
    "\n",
    "for i in range(trials):\n",
    "    monte = np.random.normal(10, 3, size=100)\n",
    "    monte_mean = np.mean(monte)\n",
    "    monte_std = np.std(monte)\n",
    "    lower_ci = (monte_mean-monte_std*t_crit/np.sqrt(trials))\n",
    "    upper_ci = (monte_mean+monte_std*t_crit/np.sqrt(trials))\n",
    "    cap_monte = ((lower_ci > monte) + (monte > upper_ci)).sum()\n",
    "    rel_freq_monte.append(cap_monte)\n",
    "    print(cap_monte)\n",
    "\n",
    "n_trails_mean = np.mean(rel_freq_monte)\n",
    "n_trails_std = np.t(rel_freq_monte)\n",
    "    \n",
    "n_trials_low = (n_trails_mean-n_trails_std*t_crit_2/np.sqrt(len(rel_freq_monte))) \n",
    "n_trials_up = (n_trails_mean+n_trails_std*t_crit_2/np.sqrt(len(rel_freq_monte)))\n",
    "n_trials_inside = ((n_trials_low > rel_freq_monte) + (rel_freq_monte > n_trials_up)).sum()  \n",
    "\n",
    "\n",
    "#print(n_trials_up)\n",
    "\n",
    "# print(monte)\n",
    "# print()\n",
    "# print(monte_mean)\n",
    "# print()\n",
    "# print(monte_std)\n",
    "# print()\n",
    "# print(rel_freq_monte)\n",
    "# # print(cap_monte)"
   ]
  }
 ],
 "metadata": {
  "kernelspec": {
   "display_name": "Python 3 (ipykernel)",
   "language": "python",
   "name": "python3"
  },
  "language_info": {
   "codemirror_mode": {
    "name": "ipython",
    "version": 3
   },
   "file_extension": ".py",
   "mimetype": "text/x-python",
   "name": "python",
   "nbconvert_exporter": "python",
   "pygments_lexer": "ipython3",
   "version": "3.9.12"
  }
 },
 "nbformat": 4,
 "nbformat_minor": 5
}
