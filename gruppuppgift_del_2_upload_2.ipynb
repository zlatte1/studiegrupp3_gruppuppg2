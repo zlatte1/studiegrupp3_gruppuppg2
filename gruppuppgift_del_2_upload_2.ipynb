{
 "cells": [
  {
   "cell_type": "markdown",
   "id": "bf361c36",
   "metadata": {},
   "source": [
    "# Gruppuppgift Del 2\n"
   ]
  },
  {
   "cell_type": "markdown",
   "id": "92b53cd1",
   "metadata": {},
   "source": [
    "**Name:**\n",
    "\n",
    "**Name of the person who graded you during \"kamratbedömning\":**"
   ]
  },
  {
   "cell_type": "code",
<<<<<<< HEAD
   "execution_count": 3,
=======
   "execution_count": 6,
>>>>>>> 482ba63b97f3087e5d27be2598099ed663878dc2
   "id": "f4370605",
   "metadata": {},
   "outputs": [],
   "source": [
    "import numpy as np\n",
    "import matplotlib.pyplot as plt\n",
    "import scipy.stats\n",
    "\n",
    "import scipy.special \n",
<<<<<<< HEAD
    "import statistics\n",
=======
    "import scipy.stats\n",
>>>>>>> 482ba63b97f3087e5d27be2598099ed663878dc2
    "\n",
    "\n"
   ]
  },
  {
   "cell_type": "markdown",
   "id": "859c5049",
   "metadata": {},
   "source": [
    "# Chapter 6 in the Book // Hannes kikar på."
   ]
  },
  {
   "cell_type": "markdown",
   "id": "1ce77511",
   "metadata": {},
   "source": [
    "## Create two empty vectors, x1 and x2. Now do a for loop 100 times, where you for each iteration: \n",
    "## 1) Take the mean of 100 samples from $N(10, 5)$ and store it in x1. \n",
    "## 2) Take the mean of 100 samples from $N(10, 20)$ and store it in x2.\n",
    "\n",
    "## So, your vectors x1 and x2 should contain 100 values. \n",
    "\n",
    "## From p.148 in the book, we know that the mean is an unbiased estimate of the fixed, but unknown $\\mu$. The nice thing is that in our Monte Carlo Simulation we know the true $\\mu$. Plot histograms of x1 and x2 and comment on the result, do we on \"average\" get the right mean? Is it easier or harder to estimate the mean when the variance is low/high? How is this knowledge useful in reality?"
   ]
  },
  {
   "cell_type": "code",
   "execution_count": 6,
   "id": "3137986c",
   "metadata": {},
   "outputs": [
    {
     "data": {
      "image/png": "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\n",
      "text/plain": [
       "<Figure size 432x288 with 1 Axes>"
      ]
     },
     "metadata": {
      "needs_background": "light"
     },
     "output_type": "display_data"
    },
    {
     "data": {
      "image/png": "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\n",
      "text/plain": [
       "<Figure size 432x288 with 1 Axes>"
      ]
     },
     "metadata": {
      "needs_background": "light"
     },
     "output_type": "display_data"
    }
   ],
   "source": [
    "# Creating two empty list vector\n",
    "x1 = []\n",
    "x2 = []\n",
    "\n",
    "# Looping through each iteration\n",
    "for i in range(100):\n",
    "    mu, sigma = 10, 5 # assigning the mu and sigma their respective values\n",
    "    norm = np.random.normal(mu, sigma, size=i) # using np.rand.normal function to generate 100 samples from the normal distribution of the given standard deviation and sigma\n",
    "    rand = [norm] # storing the above result in rand\n",
    "    x1.append(np.mean(rand)) # appanding rand to the x1 while taking the mean of that rand variable by using np.mean funtion \n",
    "\n",
    "    \n",
    "# Looping through each iteration\n",
    "for i in range(100):\n",
    "    mu, sigma = 10, 20 # assigning the mu and sigma their respective values\n",
    "    norm = np.random.normal(mu, sigma, size=i) # using np.rand.normal function to generate 100 samples from the normal distribution of the given standard deviation and sigma\n",
    "    rand = [norm] # storing the above result in rand\n",
    "    x2.append(np.mean(rand)) # appanding rand to the x1 while taking the mean of that rand variable by using np.mean funtion\n",
    "    \n",
    "\n",
    "plt.hist(x1)\n",
    "plt.show()\n",
    "\n",
    "plt.hist(x2) \n",
    "plt.show()"
   ]
  },
  {
   "cell_type": "markdown",
   "id": "460de478",
   "metadata": {},
   "source": [
    "## Redo the same analysis as above but with 10000 generated samples and see if there is any difference (copy the code from above). Comment on the results. "
   ]
  },
  {
   "cell_type": "code",
   "execution_count": null,
   "id": "23bde413",
   "metadata": {},
   "outputs": [],
   "source": []
  },
  {
   "cell_type": "markdown",
   "id": "ad2b8e50",
   "metadata": {},
   "source": [
    "# Chapter 7 - Confidence Intervals"
   ]
  },
  {
   "cell_type": "markdown",
   "id": "63efa844",
   "metadata": {},
   "source": [
    "Assuming $X$ is $N(10, 3)$, we know (see example calculation below) that a random sample x will with probability 95% be between: <br>\n",
    "ci_lower = 10 - 1.96 x 3 <br> and <br>\n",
    "ci_upper = 10 + 1.96 x 3\n",
    "\n",
    "Example, for the ci_upper, we do the following calculation: $P(X > ci\\_upper) = P(X > 10 + 1.96 * 3) = P(Z > 1.96) = 0.025$ where we used the usual standardization. \n",
    "\n",
    "This means that if you get observations from the normal distribution above, you would \"expect\" 95 \\% of them to be between ci_lower and ci_upper. \n",
    "\n",
    "Your task is now to simulate 10, 100, 1000 and 10000 normally distributed samples from $N(10, 3)$ and check the relative frequency (\\%) of how many samples fall outside the confidence interval. How many \\% should it theoretically be?"
   ]
  },
  {
   "cell_type": "code",
   "execution_count": 7,
   "id": "641568b6",
   "metadata": {},
   "outputs": [
    {
     "name": "stdout",
     "output_type": "stream",
     "text": [
      "4.12\n",
      "15.879999999999999\n"
     ]
    }
   ],
   "source": [
    "ci_lower = 10 - 1.96*3\n",
    "ci_upper = 10 + 1.96*3\n",
    "\n",
    "print(ci_lower)\n",
    "print(ci_upper)"
   ]
  },
  {
   "cell_type": "code",
   "execution_count": 12,
   "id": "5d20ac99",
   "metadata": {},
   "outputs": [
    {
     "name": "stdout",
     "output_type": "stream",
     "text": [
      "[ 6.19936336 11.15384103  8.29477117  8.89900395 11.26984469  7.86585331\n",
      " 10.30663295 14.69551937  9.49923323  9.68847539]\n"
     ]
    }
   ],
   "source": [
    "\"\"\"part 1\"\"\"\n",
    "list_10 = np.random.normal(10, 3, size=10)\n",
    "list_100 = np.random.normal(10, 3, size=100)\n",
    "list_1000 = np.random.normal(10, 3, size=1000)\n",
    "list_10000 = np.random.normal(10, 3, size=10000)\n",
    "\n",
    "print(list_10)\n"
   ]
  },
  {
   "cell_type": "code",
   "execution_count": 9,
   "id": "c26175b8",
   "metadata": {},
   "outputs": [
    {
     "name": "stdout",
     "output_type": "stream",
     "text": [
      "som binomial:  [False  True  True  True  True  True False False  True  True]\n",
      "\n",
      "antal false = dvs utanför 95% = 3\n",
      "\n",
      "<class 'numpy.ndarray'>\n",
      "10\n",
      "\n",
      "test 30.0 %\n"
     ]
    }
   ],
   "source": [
    "\"\"\"testing\"\"\"\n",
    "\n",
    "test_list = np.array([1, 12, 12, 12, 12, 12, 16, 1, 15, 15])\n",
    "\n",
    "#skapar true/false = binomial\n",
    "rel_test_list = np.array((ci_lower < test_list) & (test_list < ci_upper))\n",
    "\n",
    "#samma som ovan + summering av de värden som ligger i utfallet\n",
    "rel_test = np.array(((ci_lower > test_list) + (test_list > ci_upper)).sum())\n",
    "\n",
    "print('som binomial: ', rel_test_list)\n",
    "print()\n",
    "print('antal false = dvs utanför 95% =', rel_test)\n",
    "print()\n",
    "print(type(rel_test)) # var tvungen att vara en array för att ovan skulle fungera.\n",
    "print(len(test_list)) # för att kolla så att \n",
    "\n",
    "print()\n",
    "print('test', (rel_test/len(test_list))*100, '%')\n",
    "\n"
   ]
  },
  {
   "cell_type": "code",
   "execution_count": 13,
   "id": "e5519ac4",
   "metadata": {},
   "outputs": [
    {
     "name": "stdout",
     "output_type": "stream",
     "text": [
      "0.0 %\n",
      "1.0 %\n",
      "4.1000000000000005 %\n",
      "5.09 %\n"
     ]
    }
   ],
   "source": [
    "\"\"\"part 2\"\"\"\n",
    "rel_10 = ((ci_lower > list_10) + (list_10 > ci_upper)).sum()\n",
    "rel_100 = ((ci_lower > list_100) + (list_100 > ci_upper)).sum()\n",
    "rel_1000 = ((ci_lower > list_1000) + (list_1000 > ci_upper)).sum()\n",
    "rel_10000 = ((ci_lower > list_10000) + (list_10000 > ci_upper)).sum()\n",
    "\n",
    "print((rel_10/len(list_10))*100, '%')\n",
    "print((rel_100/len(list_100))*100, '%')\n",
    "print((rel_1000/len(list_1000))*100, '%')\n",
    "print((rel_10000/len(list_10000))*100, '%')\n"
   ]
  },
  {
   "cell_type": "markdown",
   "id": "e88f5b4b",
   "metadata": {},
   "source": [
    "### Theoretical should be 5 %"
   ]
  },
  {
   "cell_type": "markdown",
   "id": "4894a103",
   "metadata": {},
   "source": [
    "google sökningar med resultat som hjälpt till resultatet\n",
    "\n",
    "https://stackoverflow.com/questions/9560207/how-to-count-values-in-a-certain-range-in-a-numpy-array\n",
    "\n",
    "https://www.askpython.com/python/array/array-length-in-python\n",
    "\n",
    "https://www.datacamp.com/tutorial/python-arrays"
   ]
  },
  {
   "cell_type": "markdown",
   "id": "ddf91ab1",
   "metadata": {},
   "source": [
    "## Assume you have 100 observations from N(10, 3), you calculate a confidence interval and check if it \"captures\" the real $\\mu$ (we know the reality since we are doing a monte carlo simulation), how often do you \"capture\" the real mu (in \\%) when you repeat this 1000 times? How is this knowledge useful in reality?\n",
    "\n",
    "## Note, the difference between this question and the one above is that here we calculate the sample mean and sample standard deviation to construct confidence intervals whereas above we used that we \"knew the reality\" ($\\mu$ and $\\sigma$), i.e. ci_lower <- 10 - 1.96*3 and  ci_upper <- 10 + 1.96*3. Obviosuly, this is not the case in reality.\n"
   ]
  },
  {
   "cell_type": "markdown",
   "id": "b1d52956",
   "metadata": {},
   "source": [
    "DEl 2 har bara tagit fram population, ex och standard diviation"
   ]
  },
  {
   "cell_type": "code",
   "execution_count": null,
   "id": "73c31519",
   "metadata": {},
   "outputs": [],
   "source": [
    "list_100_b = np.random.normal(10, 3, size=100)\n",
    "\n"
   ]
  },
  {
   "cell_type": "code",
   "execution_count": null,
   "id": "d921e835",
   "metadata": {},
   "outputs": [],
   "source": [
    "my = np.mean(list_100_b)\n",
    "sigma = np.std(list_100_b)\n",
    "\n",
    "print(my)\n",
    "print(sigma)"
   ]
  },
  {
   "cell_type": "code",
   "execution_count": null,
   "id": "98f8b53d",
   "metadata": {},
   "outputs": [],
   "source": [
    "x_bar*1,96 #inget konkret bara för jag har en tanke om detta"
   ]
  },
  {
   "cell_type": "code",
   "execution_count": null,
   "id": "0fdf5c35",
   "metadata": {},
   "outputs": [],
   "source": []
  },
  {
   "cell_type": "code",
   "execution_count": 51,
   "id": "e1e6f9c9",
   "metadata": {},
   "outputs": [
    {
     "name": "stdout",
     "output_type": "stream",
     "text": [
      "With 95.0 % confidence the real mu is between 9.370521947210936 and 10.513849975706428\n"
     ]
    }
   ],
   "source": [
    "monte_carlo = np.random.normal(10, 3, size=100)\n",
    "\n",
    "monte_1000 = monte_carlo for i in range(10)\n",
    "\n",
    "m = monte_carlo.mean() \n",
    "s = monte_carlo.std() \n",
    "dof = len(monte_carlo)-1 \n",
    "confidence = 0.95\n",
    "\n",
    "# np.abs - för att få endast positiva värden\n",
    "#t kommer från scipy.stats\n",
    "t_crit = np.abs(scipy.stats.t.ppf((1-confidence)/2, dof))\n",
    "\n",
    "lower_ci = m-s*t_crit/np.sqrt(len(monte_carlo))\n",
    "upper_ci = m+s*t_crit/np.sqrt(len(monte_carlo))\n",
    "\n",
    "print('With', confidence*100, '% confidence the real mu is between', lower_ci, 'and', upper_ci )\n",
    "\n",
    "# i så fall hur göra 1000 st av monte carlo och sen ....?\n"
   ]
  },
  {
   "cell_type": "code",
   "execution_count": 42,
   "id": "6b8a43b3",
   "metadata": {},
   "outputs": [
    {
     "name": "stdout",
     "output_type": "stream",
     "text": [
      "With  95.0 % confidence the real mu is between 9.465813060825862 and 10.171158026855743\n"
     ]
    }
   ],
   "source": [
    "values = [np.random.choice(monte_carlo,size=len(monte_carlo),replace=True).mean() for i in range(10)] \n",
    "\n",
    "result = np.percentile(values,[100*(1-confidence)/2,100*(1-(1-confidence)/2)]) \n",
    "\n",
    "print('With ', confidence*100, '% confidence the real mu is between', result[0], 'and', result[1] )\n",
    "\n",
    "# Kan jag ta bort np.random.choice för att det ska bli\n",
    "# antalet i range(1000) simulationer av monte_carlo som sedan result baserar sig på?\n"
   ]
  },
  {
   "cell_type": "code",
   "execution_count": null,
   "id": "526482fc",
   "metadata": {},
   "outputs": [],
   "source": []
  },
  {
   "cell_type": "code",
   "execution_count": 62,
   "id": "03da0193",
   "metadata": {},
   "outputs": [
    {
     "name": "stdout",
     "output_type": "stream",
     "text": [
      "[4.2, 2.0, 3.4, 3.6, 2.8, 4.0, 2.8, 2.0, 3.4, 2.8]\n"
     ]
    }
   ],
   "source": [
    "monte = [1, 2, 3, 4, 5]\n",
    "monte_values = [np.random.choice(monte,size=len(monte),replace=True).mean() for i in range(10)] \n",
    "\n",
    "print(monte_values)"
   ]
  },
  {
   "cell_type": "code",
   "execution_count": 63,
   "id": "4a9aa415",
   "metadata": {
    "scrolled": true
   },
   "outputs": [
    {
     "name": "stdout",
     "output_type": "stream",
     "text": [
      "9.610849928160299\n",
      "7.90361573333487\n",
      "10.064766270625976\n",
      "8.171003444460007\n",
      "10.051814337361723\n",
      "8.195782137917147\n",
      "10.352581549709512\n",
      "8.731138050473785\n",
      "10.232924267899826\n",
      "8.408305000256416\n",
      "9.953854575974978\n",
      "7.913694051122925\n",
      "10.173183259116133\n",
      "8.216786589281806\n",
      "10.347029938218704\n",
      "8.445300516118698\n",
      "9.990308392164911\n",
      "8.149973615629882\n",
      "9.952740038997\n",
      "8.161980000886087\n",
      "\n",
      "10\n"
     ]
    }
   ],
   "source": [
    "# monte_carlo = np.random.normal(10, 3, size=100)\n",
    "\n",
    "monte_mean = []\n",
    "monte_std = []\n",
    "capture = 0\n",
    "\n",
    "lower_ci_1000 = []\n",
    "upper_ci_1000 = []\n",
    "dof = len(monte_carlo)-1 \n",
    "confidence = 0.95\n",
    "\n",
    "mont_x_range = 10\n",
    "\n",
    "t_crit = np.abs(scipy.stats.t.ppf((1-confidence)/2, dof))\n",
    "\n",
    "for i in range(mont_x_range):\n",
    "    c_monte_mean = np.random.normal(10, 3, size=100).mean()\n",
    "    monte_mean.append(c_monte_mean)\n",
    "    c_monte_std = np.random.normal(10, 3, size=100).std() \n",
    "    monte_std.append(c_monte_std)    \n",
    "    lower_ci = (c_monte_mean-c_monte_std*t_crit/np.sqrt(mont_x_range))\n",
    "    upper_ci = (c_monte_mean+c_monte_std*t_crit/np.sqrt(mont_x_range))\n",
    "    print(c_monte_mean)\n",
    "    print(lower_ci)\n",
    "    #print(upper_ci)\n",
    "    if c_monte_std > upper_ci:\n",
    "        capture += 1\n",
    "    if c_monte_std < lower_ci:\n",
    "        capture += 1\n",
    "print()\n",
    "print(capture)\n"
   ]
  },
  {
   "cell_type": "code",
   "execution_count": null,
   "id": "e3360404",
   "metadata": {},
   "outputs": [],
   "source": []
  },
  {
   "cell_type": "code",
   "execution_count": null,
   "id": "b01ffc26",
   "metadata": {},
   "outputs": [],
   "source": []
  },
  {
   "cell_type": "code",
   "execution_count": null,
   "id": "80a68c0e",
   "metadata": {},
   "outputs": [],
   "source": []
  },
  {
   "cell_type": "code",
   "execution_count": null,
   "id": "627c2aba",
   "metadata": {},
   "outputs": [],
   "source": []
  },
  {
   "cell_type": "code",
   "execution_count": null,
   "id": "6d0396f8",
   "metadata": {},
   "outputs": [],
   "source": []
  },
  {
   "cell_type": "code",
   "execution_count": 60,
   "id": "ab41efb9",
   "metadata": {
    "scrolled": true
   },
   "outputs": [
    {
     "name": "stdout",
     "output_type": "stream",
     "text": [
      "[10.318712216357355, 10.214085308678017, 10.456851890004423, 9.991784691380326, 9.974301114465698, 10.194818956744928, 10.212986140059153, 10.424841553719759, 10.066468826730627, 10.198705810928821]\n",
      "\n",
      "[ 9.46581306 10.17115803]\n"
     ]
    }
   ],
   "source": [
    "print(values)\n",
    "print()\n",
    "print(result)"
   ]
  },
  {
   "cell_type": "code",
   "execution_count": 56,
   "id": "a4d939ab",
   "metadata": {},
   "outputs": [
    {
     "data": {
      "text/plain": [
       "2.500000000000002"
      ]
     },
     "execution_count": 56,
     "metadata": {},
     "output_type": "execute_result"
    }
   ],
   "source": [
    "100*(1-confidence)/2\n",
    "\n"
   ]
  },
  {
   "cell_type": "code",
   "execution_count": 59,
   "id": "5e782bac",
   "metadata": {},
   "outputs": [
    {
     "data": {
      "text/plain": [
       "99.975"
      ]
     },
     "execution_count": 59,
     "metadata": {},
     "output_type": "execute_result"
    }
   ],
   "source": [
    "100*1-(1-confidence)/2"
   ]
  },
  {
   "cell_type": "code",
   "execution_count": 49,
   "id": "c587ca7d",
   "metadata": {
    "scrolled": true
   },
   "outputs": [
    {
     "name": "stdout",
     "output_type": "stream",
     "text": [
      "[10.318712216357355, 10.214085308678017, 10.456851890004423, 9.991784691380326, 9.974301114465698, 10.194818956744928, 10.212986140059153, 10.424841553719759, 10.066468826730627, 10.198705810928821]\n",
      "\n",
      "[ 9.96145648  6.95876339  5.44070159  7.35806969 12.36834067 10.46521846\n",
      " 10.81587567  8.49625234 10.25064778  8.360037   11.98416513 10.72544668\n",
      "  7.50911464 11.27058443  8.33057077 10.83330193 11.74024731  9.95977416\n",
      " 10.4904851   4.37511547 14.08910623  6.32250642  6.60781904 11.31718412\n",
      " 13.66199259  8.67150258  9.45420162 10.45855543  8.64554608  7.54914795\n",
      "  6.70730562 12.65445894 11.15968026  9.66421048 11.172955    4.98278158\n",
      " 14.54065208  6.65340246 15.09294564  8.68584436 10.86075193 10.76091979\n",
      " 17.0772856  12.09729207  8.42235962 10.85876927 12.38980401 12.95992209\n",
      "  6.23425155  9.58497097  8.89693872 12.13380614 11.2380691   7.40288057\n",
      " 11.71809784  9.83400203  9.1952956   8.02209     8.22415509 13.12762234\n",
      "  8.39528114  7.75810438 11.5157029   8.78141463 11.12588069 13.30181035\n",
      "  8.44676785 16.28918156  8.61054896  7.42692727  9.03882186  8.80332361\n",
      " 12.45540854 11.98027595 10.68824247 14.05959415  7.96146886  7.60848889\n",
      "  9.89770558 10.45908715 11.29987797 11.32096996  8.66775302 14.56447053\n",
      " 11.97503874 10.49715239  7.9451642   2.8628012  16.24313134 11.08480959\n",
      "  9.65557466  6.39174985 12.31332636 10.99683384  8.89494153 10.94303322\n",
      " 10.59698698 10.72810767 12.92224208  3.3137805 ]\n"
     ]
    }
   ],
   "source": [
    "values = [np.random.choice(monte_carlo,size=len(monte_carlo),replace=True).mean() for i in range(10)] \n",
    "\n",
    "print(values)\n",
    "print()\n",
    "print(monte_carlo)\n"
   ]
  },
  {
   "cell_type": "markdown",
   "id": "0a1f72d4",
   "metadata": {},
   "source": [
    "google sökningar med resultat som hjälpt till resultatet\n",
    "\n",
    "https://towardsdatascience.com/how-to-calculate-confidence-intervals-in-python-a8625a48e62b\n",
    "\n",
    "https://www.google.com/search?q=standard+deviation+python&rlz=1C1FKPE_svSE1022SE1022&oq=standard+deviation+py&aqs=chrome.0.0i512j69i57j0i512l4j0i22i30l4.13002j0j7&sourceid=chrome&ie=UTF-8"
   ]
  },
  {
   "cell_type": "markdown",
   "id": "b2e094ef",
   "metadata": {},
   "source": [
    "## Confidence Intervals for proportions. \n",
    "So far, we have looked at confidence intervals for $\\mu$. Often, we are also interested in proportions, $\\pi$, this is for instance the case in elections that get much attention at TV and \"nyhetsmorgon\". "
   ]
  },
  {
   "cell_type": "markdown",
   "id": "67dee8d6",
   "metadata": {},
   "source": [
    "## Assume we ask 1000 people who they will vote for and 4.2% answer Centerpartiet (C). Create a 90% Confidence Interval to get the proportion that would vote for C if we surveyed the whole population (\"Totalundersökning\"). OBS: note we want a 90% confidence interval."
   ]
  },
  {
   "cell_type": "code",
   "execution_count": null,
   "id": "deda4b24",
   "metadata": {},
   "outputs": [],
   "source": []
  },
  {
   "cell_type": "markdown",
   "id": "42f039ee",
   "metadata": {},
   "source": [
    "## For this question see (p. 177 - 178) in the book. We ask 1000 people who they will vote for, 4.2% answer Centerpartiet (C) and 4.5% answer Liberalerna (L), is there a statistical significant difference between the two parties? \n",
    "\n",
    "## Check if the assumption on  np(1-p) > 5 is satisfied for both poportions."
   ]
  },
  {
   "cell_type": "code",
   "execution_count": null,
   "id": "33358ca0",
   "metadata": {},
   "outputs": [],
   "source": []
  },
  {
   "cell_type": "markdown",
   "id": "cc6d39ad",
   "metadata": {},
   "source": [
    "# Chapter 8 - Hypothesis Testing\n",
    "In the code below, can we reject the hypothesis that $\\mu = 5$ ? Can we reject the hypothesis that $\\mu = 0$ ? How do you interpret the p-value?\n",
    "\n",
    "Read the following documentation: https://docs.scipy.org/doc/scipy/reference/generated/scipy.stats.ttest_1samp.html to understand the function. "
   ]
  },
  {
   "cell_type": "code",
   "execution_count": 29,
   "id": "c0293b33",
   "metadata": {},
   "outputs": [],
   "source": [
    "x = scipy.stats.norm.rvs(loc = 0, scale = 4, size = 100)"
   ]
  },
  {
   "cell_type": "code",
   "execution_count": 31,
   "id": "762425cf",
   "metadata": {},
   "outputs": [
    {
     "name": "stdout",
     "output_type": "stream",
     "text": [
      "Ttest_1sampResult(statistic=-11.860954973656643, pvalue=1.0179211873506776e-20)\n"
     ]
    }
   ],
   "source": [
    "print(scipy.stats.ttest_1samp(x, 5))"
   ]
  },
  {
   "cell_type": "code",
   "execution_count": 33,
   "id": "5c1b2c26",
   "metadata": {},
   "outputs": [
    {
     "name": "stdout",
     "output_type": "stream",
     "text": [
      "Ttest_1sampResult(statistic=-0.29068257828880456, pvalue=0.7719021648598188)\n"
     ]
    }
   ],
   "source": [
    "print(scipy.stats.ttest_1samp(x, 0))"
   ]
  }
 ],
 "metadata": {
  "kernelspec": {
   "display_name": "Python 3 (ipykernel)",
   "language": "python",
   "name": "python3"
  },
  "language_info": {
   "codemirror_mode": {
    "name": "ipython",
    "version": 3
   },
   "file_extension": ".py",
   "mimetype": "text/x-python",
   "name": "python",
   "nbconvert_exporter": "python",
   "pygments_lexer": "ipython3",
   "version": "3.9.7"
  }
 },
 "nbformat": 4,
 "nbformat_minor": 5
}
